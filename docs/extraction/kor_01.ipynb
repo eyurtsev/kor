{
 "cells": [
  {
   "cell_type": "markdown",
   "id": "6fcfbb4c-e91d-46aa-8653-38f094146c0c",
   "metadata": {},
   "source": [
    "# Kor\n",
    "\n",
    "This notebooks shows a few extraction examples using the library. \n",
    "\n",
    "Please pay attention to errors that are made to better understand limitations.\n",
    "\n",
    "Again, this may not be a good approach for robust information extraction using LLMs."
   ]
  },
  {
   "cell_type": "markdown",
   "id": "7db26299-a752-44c4-b20d-c338b90c6d15",
   "metadata": {
    "tags": []
   },
   "source": [
    "## Temporary hack to add kor to PYTHONPATH"
   ]
  },
  {
   "cell_type": "code",
   "execution_count": 1,
   "id": "fe40bbba-e7ec-4cf9-ab79-16139e6e7e94",
   "metadata": {
    "tags": []
   },
   "outputs": [],
   "source": [
    "%load_ext autoreload\n",
    "%autoreload 2"
   ]
  },
  {
   "cell_type": "code",
   "execution_count": 2,
   "id": "ea602017-6b8a-4b42-850a-686cae35809f",
   "metadata": {
    "tags": []
   },
   "outputs": [],
   "source": [
    "import sys\n",
    "import pprint"
   ]
  },
  {
   "cell_type": "code",
   "execution_count": 3,
   "id": "ae7d98ba-5ca8-4ce5-b54a-ef100affa9f5",
   "metadata": {
    "tags": []
   },
   "outputs": [],
   "source": [
    "sys.path.insert(0, '../../')"
   ]
  },
  {
   "cell_type": "code",
   "execution_count": 87,
   "id": "718c66a7-6186-4ed8-87e9-5ed28e3f209e",
   "metadata": {
    "tags": []
   },
   "outputs": [],
   "source": [
    "from kor.extraction import Extractor\n",
    "from kor.nodes import Object, Text, Number\n",
    "from kor.llms import OpenAIChatCompletion, OpenAICompletion"
   ]
  },
  {
   "cell_type": "code",
   "execution_count": 88,
   "id": "d69d0e0f-81b7-4e80-9190-bc3ac27c27ab",
   "metadata": {
    "tags": []
   },
   "outputs": [],
   "source": [
    "llm = OpenAIChatCompletion(model='gpt-3.5-turbo')\n",
    "# Or davinci -- might work better in some cases, but more expensive\n",
    "# llm = OpenAICompletion(model='text-davinci-003')"
   ]
  },
  {
   "cell_type": "markdown",
   "id": "afdabe59-b7d4-4b65-ac27-b91c37fabcd3",
   "metadata": {},
   "source": [
    "# Create an extractor"
   ]
  },
  {
   "cell_type": "code",
   "execution_count": 108,
   "id": "9666b3b9-e48e-41ab-91b5-7bc6ec5983df",
   "metadata": {
    "tags": []
   },
   "outputs": [],
   "source": [
    "model = Extractor(llm)"
   ]
  },
  {
   "cell_type": "markdown",
   "id": "6645f896-c969-444d-b9f2-85318abb79d6",
   "metadata": {},
   "source": [
    "# Define a simple schema "
   ]
  },
  {
   "cell_type": "code",
   "execution_count": 109,
   "id": "8c97a013-5443-442a-a87c-b3f4bff21bf6",
   "metadata": {
    "tags": []
   },
   "outputs": [],
   "source": [
    "schema = Text(id='first_name', description='The first name of a person', examples=[('I am billy.', 'billy'), ('John Smith is 33 years old', 'John')])"
   ]
  },
  {
   "cell_type": "markdown",
   "id": "a6849441-f9ae-468d-9003-b26bfa0253dd",
   "metadata": {
    "tags": []
   },
   "source": [
    "## Run Extraction"
   ]
  },
  {
   "cell_type": "code",
   "execution_count": 111,
   "id": "f6102c88-4147-43f4-800f-28e1ce6b2aa2",
   "metadata": {
    "tags": []
   },
   "outputs": [
    {
     "data": {
      "text/plain": [
       "{'first_name': ['Tom', 'Bobby']}"
      ]
     },
     "execution_count": 111,
     "metadata": {},
     "output_type": "execute_result"
    }
   ],
   "source": [
    "model('My name is Tom. I am a cat. My best friend is Bobby. He is not a cat.', schema) "
   ]
  },
  {
   "cell_type": "code",
   "execution_count": 113,
   "id": "69148111-77e1-450c-ba38-fd46c3730de2",
   "metadata": {
    "tags": []
   },
   "outputs": [
    {
     "data": {
      "text/plain": [
       "{'first_name': ['WOW']}"
      ]
     },
     "execution_count": 113,
     "metadata": {},
     "output_type": "execute_result"
    }
   ],
   "source": [
    "model('My name is My name is My name is WOW.', schema) "
   ]
  },
  {
   "cell_type": "code",
   "execution_count": 114,
   "id": "000dc5f9-ff7b-466d-ae18-142490129ba6",
   "metadata": {
    "tags": []
   },
   "outputs": [
    {
     "data": {
      "text/plain": [
       "{'first_name': ['MOO', 'MOO', 'MOO']}"
      ]
     },
     "execution_count": 114,
     "metadata": {},
     "output_type": "execute_result"
    }
   ],
   "source": [
    "model('My name is My name is My name is MOO MOO.', schema)"
   ]
  },
  {
   "cell_type": "markdown",
   "id": "b74b5145-6360-4091-afca-4690a0a07d2f",
   "metadata": {},
   "source": [
    "# Extract a phone number"
   ]
  },
  {
   "cell_type": "markdown",
   "id": "2726f5d4-3f1a-4908-9e71-84b8a84ab309",
   "metadata": {
    "tags": []
   },
   "source": [
    "## Sometimes it might work without examples, but having a few examples is recommended"
   ]
  },
  {
   "cell_type": "code",
   "execution_count": 125,
   "id": "086f5465-6455-4e90-9984-a65cbc2cf6fa",
   "metadata": {
    "tags": []
   },
   "outputs": [],
   "source": [
    "schema = Text(id='phone_number', description='Any phone numbers found in the text format should be 9 digit')"
   ]
  },
  {
   "cell_type": "code",
   "execution_count": 126,
   "id": "f44d099a-0878-4d4b-b9a7-8fb14848d6f4",
   "metadata": {
    "tags": []
   },
   "outputs": [
    {
     "data": {
      "text/plain": [
       "{'phone_number': ['(123)4449999', '(333)1232832']}"
      ]
     },
     "execution_count": 126,
     "metadata": {},
     "output_type": "execute_result"
    }
   ],
   "source": [
    "model('My phone number is (123)-444-9999. I found my true love one on a blue sunday. Her number was (333)1232832', schema)"
   ]
  },
  {
   "cell_type": "code",
   "execution_count": 129,
   "id": "559f5f66-2f85-4fc9-9a66-2fd3842041c8",
   "metadata": {
    "tags": []
   },
   "outputs": [],
   "source": [
    "schema = Text(id='phone_number', description='Any phone numbers found in the text format should be 9 digit', examples=[('Someone called me from 123-123-1234', '123-123-1234')])"
   ]
  },
  {
   "cell_type": "code",
   "execution_count": 130,
   "id": "5571951a-bbaf-4c94-a749-60573fa6539d",
   "metadata": {
    "tags": []
   },
   "outputs": [
    {
     "data": {
      "text/plain": [
       "{'phone_number': ['(123)-444-9999', '(333)1232832']}"
      ]
     },
     "execution_count": 130,
     "metadata": {},
     "output_type": "execute_result"
    }
   ],
   "source": [
    "model('My phone number is (123)-444-9999. I found my true love one on a blue sunday. Her number was (333)1232832', schema)"
   ]
  },
  {
   "cell_type": "markdown",
   "id": "5d3beab3-6dea-4301-8c59-ae1685830afa",
   "metadata": {},
   "source": [
    "# Extracting Multiple Attributes\n",
    "\n",
    "Here examples are specified independently on a per attribute level.\n",
    "\n",
    "This is done for convenience and will sometimes work, even though individually specified examples can be contradictory (as is the case for first and last name below!"
   ]
  },
  {
   "cell_type": "code",
   "execution_count": 132,
   "id": "3bb910e9-43c4-42dd-83dd-546b7df6e805",
   "metadata": {
    "tags": []
   },
   "outputs": [],
   "source": [
    "schema = Object(\n",
    "    id='personal_info', description='Personal information about a given person.',\n",
    "    attributes=[\n",
    "        Text(id='first_name', description='The first name of the person', examples=[('John Smith went to the store', 'John')]),\n",
    "        Text(id='last_name', description='The last name of the person', examples=[('John Smith went to the store', 'Smith')]),\n",
    "        Number(id='age', description='The age of the person', examples=[('23 years old', '23')]),        \n",
    "    ]\n",
    ")"
   ]
  },
  {
   "cell_type": "code",
   "execution_count": 133,
   "id": "8be30aa6-a095-4506-8ec9-bde84dd107d3",
   "metadata": {
    "tags": []
   },
   "outputs": [
    {
     "data": {
      "text/plain": [
       "{}"
      ]
     },
     "execution_count": 133,
     "metadata": {},
     "output_type": "execute_result"
    }
   ],
   "source": [
    "model('My phone number is (123)-444-9999. I found my true love one on a blue sunday. Her number was (333)1232832', schema)"
   ]
  },
  {
   "cell_type": "code",
   "execution_count": 134,
   "id": "611ed04e-e8be-4941-9745-d62000eb56bd",
   "metadata": {
    "tags": []
   },
   "outputs": [
    {
     "data": {
      "text/plain": [
       "{'personal_info': [{'first_name': ['Bob']},\n",
       "  {'phone_number': ['(123)-444-9999']},\n",
       "  {'phone_number': ['(333)1232832']}]}"
      ]
     },
     "execution_count": 134,
     "metadata": {},
     "output_type": "execute_result"
    }
   ],
   "source": [
    "model('My name is Bob and my phone number is (123)-444-9999. I found my true love one on a blue sunday. Her number was (333)1232832', schema)"
   ]
  },
  {
   "cell_type": "code",
   "execution_count": null,
   "id": "93668b59-6e8c-4ad8-abf9-8cba62ccc2b7",
   "metadata": {},
   "outputs": [],
   "source": [
    "model('"
   ]
  },
  {
   "cell_type": "code",
   "execution_count": null,
   "id": "512b9aac-e672-408f-aa6a-f07f36b420c6",
   "metadata": {},
   "outputs": [],
   "source": [
    "schema = Text(id='phone_number', description='Any phone numbers found in the text format should be 9 digit', eaxmples=[)"
   ]
  },
  {
   "cell_type": "code",
   "execution_count": 78,
   "id": "8f870be6-5a4f-4d59-89d2-e1efea106ef2",
   "metadata": {
    "tags": []
   },
   "outputs": [],
   "source": [
    "prompt_generator = extractor.prompt_generator"
   ]
  },
  {
   "cell_type": "code",
   "execution_count": 80,
   "id": "a27c0949-c4fd-40f1-9c51-068cf46082d4",
   "metadata": {
    "tags": []
   },
   "outputs": [
    {
     "name": "stdout",
     "output_type": "stream",
     "text": [
      "Your goal is to extract structured information from the user's input that matches the form described below. When extracting information please make sure it matches the type information exactly. \n",
      "\n",
      "```TypeScript\n",
      "\n",
      "{\n",
      "\n",
      "first_name: string[] // The first name of a person\n",
      "}\n",
      "\n",
      "```\n",
      "\n",
      "\n",
      "For Union types the output must EXACTLY match one of the members of the Union type.\n",
      "\n",
      "Please enclose the extracted information in HTML style tags with the tag name corresponding to the corresponding component ID. Use angle style brackets for the tags ('>' and '<'). Only output tags when you're confident about the information that was extracted from the user's query. If you can extract several pieces of relevant information from the query, then include all of them. If the type is an array, please repeat the corresponding tag name multiple times once for each relevant extraction. \n",
      "\n",
      "Input: I am billy.\n",
      "Output: <first_name>billy</first_name>\n",
      "Input: John Smith is 33 years old\n",
      "Output: <first_name>John</first_name>\n",
      "Input: User input\n",
      "Output:\n"
     ]
    }
   ],
   "source": [
    "print(prompt_generator.format_as_string('User input', schema))"
   ]
  },
  {
   "cell_type": "code",
   "execution_count": 72,
   "id": "6c9c1e6c-c5a4-4670-845b-2c904ad68644",
   "metadata": {
    "tags": []
   },
   "outputs": [
    {
     "data": {
      "text/plain": [
       "{'first_name': ['Tom', 'Bobby']}"
      ]
     },
     "execution_count": 72,
     "metadata": {},
     "output_type": "execute_result"
    }
   ],
   "source": []
  },
  {
   "cell_type": "markdown",
   "id": "46e80394-3f99-4e7f-bbd6-a7a7f185b805",
   "metadata": {},
   "source": [
    "## What's the actual prompt?"
   ]
  },
  {
   "cell_type": "code",
   "execution_count": 68,
   "id": "9ee00007-37b3-4bc1-b4fb-ab9882cd1c7e",
   "metadata": {
    "tags": []
   },
   "outputs": [
    {
     "name": "stdout",
     "output_type": "stream",
     "text": [
      "Your goal is to extract structured information from the user's input that matches the form described below. When extracting information please make sure it matches the type information exactly. \n",
      "\n",
      "```TypeScript\n",
      "\n",
      "{\n",
      "\n",
      "first_name: string[] // The first name of a person\n",
      "}\n",
      "\n",
      "```\n",
      "\n",
      "\n",
      "For Union types the output must EXACTLY match one of the members of the Union type.\n",
      "\n",
      "Please enclose the extracted information in HTML style tags with the tag name corresponding to the corresponding component ID. Use angle style brackets for the tags ('>' and '<'). Only output tags when you're confident about the information that was extracted from the user's query. If you can extract several pieces of relevant information from the query, then include all of them. If the type is an array, please repeat the corresponding tag name multiple times once for each relevant extraction. \n",
      "\n",
      "Input: I am billy.\n",
      "Output: <first_name>billy</first_name>\n",
      "Input: John Smith is 33 years old\n",
      "Output: <first_name>John</first_name>\n",
      "Input: h\n",
      "Output:\n"
     ]
    }
   ],
   "source": [
    "print(STANDARD_EXTRACTION_TEMPLATE.format_as_string('h', schema))"
   ]
  },
  {
   "cell_type": "code",
   "execution_count": 70,
   "id": "fc27f8f8-fa45-4533-932a-5fe0bd1303df",
   "metadata": {
    "tags": []
   },
   "outputs": [
    {
     "data": {
      "text/plain": [
       "{'first_name': ['Tom', 'Bobby']}"
      ]
     },
     "execution_count": 70,
     "metadata": {},
     "output_type": "execute_result"
    }
   ],
   "source": []
  },
  {
   "cell_type": "code",
   "execution_count": null,
   "id": "ba99a19a-1e7f-4cb9-ba46-3d341cb595cb",
   "metadata": {},
   "outputs": [],
   "source": []
  },
  {
   "cell_type": "markdown",
   "id": "58ecdb75-7b61-4676-bd12-9f86ff523441",
   "metadata": {},
   "source": [
    "## Collect personal information"
   ]
  },
  {
   "cell_type": "code",
   "execution_count": 11,
   "id": "0c611670-2678-4bc3-9ce2-42a181896194",
   "metadata": {
    "tags": []
   },
   "outputs": [],
   "source": [
    "form = Form(\n",
    "    id='personal-info', \n",
    "    description='Collect information about a person.',\n",
    "    elements=[\n",
    "        TextInput(\n",
    "            id='profession',\n",
    "            description='what is the person\\'s profession?',\n",
    "            examples=[('He was a piano teacher', 'piano teacher'), ('Bob was a lawyer and a politician', ['lawyer', 'politician'])]\n",
    "        ),\n",
    "        TextInput(\n",
    "            id='first_name',\n",
    "            description='what is the person\\'s first name',\n",
    "            examples=[('Billy was here', 'Billy'), ('Bob Donatello was very tall', 'Bob')]\n",
    "        ),\n",
    "        TextInput(\n",
    "            id='last_name',\n",
    "            description='what is the person\\'s last name',\n",
    "            examples=[('Billy was here', ''), ('Bob Donatello was very tall', 'Donatello')]\n",
    "        ),\n",
    "        Number(\n",
    "            id='age',\n",
    "            description='what is the person\\'s age',\n",
    "            examples=[('26 years old', '26 years'), ('6 puppies', '') ],\n",
    "        ),\n",
    "        Selection(\n",
    "            id='eye-color', \n",
    "            description='What is the person\\'s eye color?',\n",
    "            options=[\n",
    "                Option(id='green', description='Green Eyes',  examples=['my eyes are green']),\n",
    "                Option(id='blue',description='Blue Eyes',  examples=['blue eyes']),\n",
    "                Option(id='brown',description='Brown Eyes',  examples=['brown eye color']),\n",
    "            ],\n",
    "            null_examples=['violet eyes']\n",
    "        )\n",
    "    ]\n",
    ")"
   ]
  },
  {
   "cell_type": "code",
   "execution_count": 7,
   "id": "c8d6ce1e-68e0-4226-ad8f-f45cf64f5190",
   "metadata": {
    "tags": []
   },
   "outputs": [
    {
     "name": "stdout",
     "output_type": "stream",
     "text": [
      "{ 'personal-info': [ { 'age': ['60 days'],\n",
      "                       'first_name': ['Alice'],\n",
      "                       'last_name': ['MacDonald']}]}\n",
      "CPU times: user 61.4 ms, sys: 3.62 ms, total: 65 ms\n",
      "Wall time: 1.69 s\n"
     ]
    }
   ],
   "source": [
    "%%time\n",
    "pprint.pprint(chat_extract('Today Alice MacDonald is turning sixty days old.', form, llm), indent=2)"
   ]
  },
  {
   "cell_type": "markdown",
   "id": "29d6e0ff-93d6-4783-8866-0ea91fd021d2",
   "metadata": {},
   "source": [
    "**ATTENTION** At the moment, parsed information will be collected independently into lists if using a flat form. (Might change the API in a bit since it feels like this will be a source of confusion.)"
   ]
  },
  {
   "cell_type": "code",
   "execution_count": 8,
   "id": "ed6a1f62-c35b-4f91-b820-880b12ce9e85",
   "metadata": {
    "tags": []
   },
   "outputs": [
    {
     "name": "stdout",
     "output_type": "stream",
     "text": [
      "{ 'personal-info': [ { 'age': ['60 days'],\n",
      "                       'eye-color': ['blue'],\n",
      "                       'first_name': ['Alice'],\n",
      "                       'last_name': ['MacDonald']},\n",
      "                     {'age': ['10 years'], 'first_name': ['Bob']}]}\n",
      "CPU times: user 5.42 ms, sys: 143 µs, total: 5.57 ms\n",
      "Wall time: 1.82 s\n"
     ]
    }
   ],
   "source": [
    "%%time\n",
    "pprint.pprint(\n",
    "    chat_extract('Today Alice MacDonald is turning sixty days old. She had blue eyes. '\n",
    "            'Bob is turning 10 years old. His eyes were bright red.', form, llm), \n",
    "indent=2)"
   ]
  },
  {
   "cell_type": "markdown",
   "id": "c88a8104-78de-4d77-a18c-2773cf78d93b",
   "metadata": {},
   "source": [
    "## Using an Object input"
   ]
  },
  {
   "cell_type": "code",
   "execution_count": 9,
   "id": "b66bf239-1031-4f70-b8a8-3a92358b22d9",
   "metadata": {
    "tags": []
   },
   "outputs": [],
   "source": [
    "form = Form(\n",
    "    id='personal', \n",
    "    description='Collect information about a person.',\n",
    "    elements=[\n",
    "        ObjectInput(\n",
    "            id='info', \n",
    "            description='Personal information about a person like name, age, hobbies, date of birth, height etc.', \n",
    "            examples=[(\n",
    "                'Billy Apple was born on 2020-01-01', {\n",
    "                    'first_name': 'Billy',\n",
    "                    'last_name': 'Apple', \n",
    "                    'born_on': '2020-01-01'\n",
    "                },\n",
    "                ), \n",
    "                (\n",
    "                'Frank was born on 2020-01-01 and is 2 years old today', {\n",
    "                    'first_name': 'Frank', \n",
    "                    'born_on': '2020-01-01',\n",
    "                    'age': '2 years old',\n",
    "                }\n",
    "                )\n",
    "            ]\n",
    "        )\n",
    "    ]\n",
    ")"
   ]
  },
  {
   "cell_type": "markdown",
   "id": "29263531-2fba-4518-9b4d-964b6e9b9b66",
   "metadata": {},
   "source": [
    "If outputs fail for other sentences, try to add some more examples."
   ]
  },
  {
   "cell_type": "code",
   "execution_count": 14,
   "id": "e12c4842-0853-45bb-bd30-46903056dc95",
   "metadata": {
    "tags": []
   },
   "outputs": [
    {
     "name": "stdout",
     "output_type": "stream",
     "text": [
      "{ 'personal-info': [ { 'age': ['60 days'],\n",
      "                       'eye-color': ['blue'],\n",
      "                       'first_name': ['Alice'],\n",
      "                       'last_name': ['MacDonald']},\n",
      "                     { 'age': ['10 years'],\n",
      "                       'eye-color': ['bright red'],\n",
      "                       'first_name': ['Bob']},\n",
      "                     { 'eye-color': ['green'],\n",
      "                       'first_name': ['Chris'],\n",
      "                       'last_name': ['Prass'],\n",
      "                       'profession': ['piano teacher']},\n",
      "                     { 'age': ['less than 2 years'],\n",
      "                       'eye-color': ['yellow'],\n",
      "                       'first_name': ['Dorothy'],\n",
      "                       'profession': ['certified mechanic', 'chef']}]}\n",
      "CPU times: user 6.61 ms, sys: 202 µs, total: 6.81 ms\n",
      "Wall time: 5.54 s\n"
     ]
    }
   ],
   "source": [
    "%%time\n",
    "pprint.pprint(\n",
    "    chat_extract('Today Alice MacDonald is turning sixty days old. She had blue eyes. '\n",
    "            'Bob is turning 10 years old. His eyes were bright red. Chris Prass used his '\n",
    "            'green eyes to look at Dorothy to find 15 year old eyes staring back at him. '\n",
    "            'Prass was a piano teacher. Dorothy was a certified mechanic and a chef. Dorothy was not even 2 years old. ' \n",
    "            'All certified mechanics have yellow eyes.', form, llm), \n",
    "indent=2)"
   ]
  },
  {
   "cell_type": "code",
   "execution_count": 10,
   "id": "d7c7c74c-1ec0-41fe-8a5a-a099fb6c75e8",
   "metadata": {
    "tags": []
   },
   "outputs": [
    {
     "name": "stdout",
     "output_type": "stream",
     "text": [
      "{ 'personal': [ { 'info': [ { 'age': ['60 days old'],\n",
      "                              'eye_color': ['blue'],\n",
      "                              'first_name': ['Alice'],\n",
      "                              'last_name': ['MacDonald']}]},\n",
      "                { 'info': [ { 'age': ['10 years old'],\n",
      "                              'eye_color': ['bright red'],\n",
      "                              'first_name': ['Bob']}]},\n",
      "                { 'info': [ { 'age': ['15 years old'],\n",
      "                              'eye_color': ['yellow'],\n",
      "                              'first_name': ['Dorothy']}]},\n",
      "                { 'info': [ { 'eye_color': ['green'],\n",
      "                              'first_name': ['Chris'],\n",
      "                              'last_name': ['Prass'],\n",
      "                              'profession': ['piano teacher']}]}]}\n",
      "CPU times: user 7.33 ms, sys: 184 µs, total: 7.51 ms\n",
      "Wall time: 4.82 s\n"
     ]
    }
   ],
   "source": [
    "%%time\n",
    "pprint.pprint(\n",
    "    chat_extract('Today Alice MacDonald is turning sixty days old. She had blue eyes. '\n",
    "            'Bob is turning 10 years old. His eyes were bright red. Chris Prass used his '\n",
    "            'green eyes to look at Dorothy to find 15 year old eyes staring back at him. '\n",
    "            'Prass was a piano teacher. Dorothy was a certified mechanic. ' \n",
    "            'All certified mechanics have yellow eyes.', form, llm), \n",
    "indent=2)"
   ]
  },
  {
   "cell_type": "markdown",
   "id": "5aefd7ff-526e-45f4-9fe0-e3f0586dfee1",
   "metadata": {},
   "source": [
    "## Buying sports tickets"
   ]
  },
  {
   "cell_type": "code",
   "execution_count": 10,
   "id": "c50b080b-7179-4bbe-b234-83ce59e2d215",
   "metadata": {
    "tags": []
   },
   "outputs": [],
   "source": [
    "form = Form(\n",
    "    id='action', \n",
    "    description='User is looking for sports tickets',\n",
    "    elements=[\n",
    "        TextInput(\n",
    "            id='sport',\n",
    "            description='which sports do you want to buy tickets for?',\n",
    "            examples=[('I want to buy tickets to basketball and football games', ['basketball', 'footbal'])]\n",
    "        ),\n",
    "        TextInput(\n",
    "            id='location',\n",
    "            description='where would you like to watch the game?',\n",
    "            examples=[('in boston', 'boston'), ('in france or italy', ['france', 'italy'])]\n",
    "        ),\n",
    "            \n",
    "        ObjectInput(\n",
    "            id='price-range',\n",
    "            description='how much do you want to spend?',\n",
    "            examples=[('no more than $100', {'price-max': '100', 'currency': \"$\"}), \n",
    "                      ('between 50 and 100 dollars', {'price-max': '100', 'price-min': '50', 'currency': \"$\"})]\n",
    "        ),\n",
    "    ]\n",
    "\n",
    "           \n",
    ")"
   ]
  },
  {
   "cell_type": "code",
   "execution_count": 11,
   "id": "73c31ace-32dd-4a33-ae39-475db6934f6d",
   "metadata": {
    "tags": []
   },
   "outputs": [
    {
     "name": "stdout",
     "output_type": "stream",
     "text": [
      "{ 'location': ['LA area'],\n",
      "  'price-range': [{'currency': ['$'], 'price-max': ['100']}],\n",
      "  'sport': ['baseball']}\n",
      "CPU times: user 4.1 ms, sys: 0 ns, total: 4.1 ms\n",
      "Wall time: 2.13 s\n"
     ]
    }
   ],
   "source": [
    "%%time\n",
    "pprint.pprint(extract('I want to buy tickets for a baseball game in LA area under $100', form, llm), indent=2)"
   ]
  },
  {
   "cell_type": "markdown",
   "id": "20ddd000-df00-4014-9433-fba85181ba46",
   "metadata": {},
   "source": [
    "## More complex sentence\n",
    "\n",
    "Use an LLM to parse a sentence and later convert it into a database query."
   ]
  },
  {
   "cell_type": "code",
   "execution_count": 12,
   "id": "ca1a8200-5da8-48ac-8601-4fc7ff00d960",
   "metadata": {
    "tags": []
   },
   "outputs": [],
   "source": [
    "from kor import elements"
   ]
  },
  {
   "cell_type": "code",
   "execution_count": 13,
   "id": "2b0bcf09-a3ae-4a8a-9ce3-f86834ce6ca2",
   "metadata": {
    "tags": []
   },
   "outputs": [],
   "source": [
    "company_name = elements.TextInput(\n",
    "    id=\"company-name\",\n",
    "    description=\"what is the name of the company you want to find\",\n",
    "    examples=[\n",
    "        (\"Apple inc\", \"Apple inc\"),\n",
    "        (\"largest 10 banks in the world\", \"\"),\n",
    "        (\"microsoft and apple\", \"microsoft,apple\"),\n",
    "    ],\n",
    ")\n",
    "\n",
    "industry_name = elements.TextInput(\n",
    "    id=\"industry-name\",\n",
    "    description=\"what is the name of the company's industry\",\n",
    "    examples=[\n",
    "        (\"companies in the steel manufacturing industry\", \"steel manufacturing\"),\n",
    "        (\"large banks\", \"banking\"),\n",
    "        (\"military companies\", \"defense\"),\n",
    "        (\"chinese companies\", \"\"),\n",
    "        (\"companies that cell cigars\", \"cigars\"),\n",
    "    ],\n",
    ")\n",
    "\n",
    "geography_name = elements.TextInput(\n",
    "    id=\"geography-name\",\n",
    "    description=\"where is the company based?\",\n",
    "    examples=[\n",
    "        (\"chinese companies\", \"china\"),\n",
    "        (\"companies based in france\", \"france\"),\n",
    "        (\"LaMaple was based in france, italy\", ['france', 'italy']),\n",
    "        (\"italy\", \"\"),\n",
    "    ],\n",
    ")\n",
    "\n",
    "foundation_date = elements.DateInput(\n",
    "    id=\"foundation-date\",\n",
    "    description=\"Foundation date of the company\",\n",
    "    examples=[(\"companies founded in 2023\", \"2023\")],\n",
    ")\n",
    "\n",
    "attribute_filter = elements.ObjectInput(\n",
    "    id=\"attribute-filter\",\n",
    "    description=(\n",
    "        \"Filter by a value of an attribute using a binary expression. Specify the attribute's name, \"\n",
    "        \"an operator (>, <, =, !=, >=, <=, in, not in) and a value.\"\n",
    "    ),\n",
    "    examples=[\n",
    "        (\n",
    "            \"Companies with revenue > 100\",\n",
    "            {\n",
    "                \"attribute\": \"revenue\",\n",
    "                \"op\": \">\",\n",
    "                \"value\": \"100\",\n",
    "            },\n",
    "        ),\n",
    "        (\n",
    "            \"number of employees between 50 and 1000\",\n",
    "            {\"attribute\": \"employees\", \"op\": \"in\", \"value\": [\"50\", \"1000\"]},\n",
    "        ),\n",
    "        (\n",
    "            \"blue or green color\",\n",
    "            {\n",
    "                \"attribute\": \"color\",\n",
    "                \"op\": \"in\",\n",
    "                \"value\": [\"blue\", \"green\"],\n",
    "            },\n",
    "        ),\n",
    "        (\n",
    "            \"companies that do not sell in california\",\n",
    "            {\n",
    "                \"attribute\": \"geography-sales\",\n",
    "                \"op\": \"not in\",\n",
    "                \"value\": \"california\",\n",
    "            },\n",
    "        ),\n",
    "    ],\n",
    ")\n",
    "\n",
    "sales_geography = elements.TextInput(\n",
    "    id=\"geography-sales\",\n",
    "    description=(\n",
    "        \"where is the company doing sales? Please use a single country name.\"\n",
    "    ),\n",
    "    examples=[\n",
    "        (\"companies with sales in france\", \"france\"),\n",
    "        (\"companies that sell their products in germany\", \"germany\"),\n",
    "        (\"france, italy\", \"\"),\n",
    "    ],\n",
    ")\n",
    "\n",
    "attribute_selection_block = elements.TextInput(\n",
    "    id=\"attribute_selection\",\n",
    "    description=\"Asking to see the value of one or more attributes\",\n",
    "    examples=[\n",
    "        (\"What is the revenue of tech companies?\", \"revenue\"),\n",
    "        (\"market cap of apple?\", \"market cap\"),\n",
    "        (\"number of employees of largest company\", \"number of employees\"),\n",
    "        (\"what are the revenue and market cap of apple\", ['revenue', 'market cap']),\n",
    "        (\"share price and number of shares of indian companies\", [\"share price\", \"number of shares\"]),\n",
    "    ],\n",
    ")\n",
    "\n",
    "sort_by_attribute_block = elements.ObjectInput(\n",
    "    id=\"sort-block\",\n",
    "    description=(\n",
    "        \"Use to request to sort the results by a particular attribute. \"\n",
    "        \"Can specify the direction\"\n",
    "    ),\n",
    "    examples=[\n",
    "        (\n",
    "            \"Largest by market-cap tech companies\",\n",
    "            {\"direction\": \"descending\", \"attribute\": \"market-cap\"},\n",
    "        ),\n",
    "        (\n",
    "            \"sort by companies with smallest revenue \",\n",
    "            {\"direction\": \"ascending\", \"attribute\": \"revenue\"},\n",
    "        ),\n",
    "    ],\n",
    ")\n",
    "\n",
    "form = elements.Form(\n",
    "    id=\"search-for-companies\",\n",
    "    description=\"Search for companies matching the following criteria.\",\n",
    "    elements=[\n",
    "        company_name,\n",
    "        geography_name,\n",
    "        foundation_date,\n",
    "        industry_name,\n",
    "        sales_geography,\n",
    "        attribute_filter,\n",
    "        attribute_selection_block,\n",
    "        sort_by_attribute_block,\n",
    "    ],\n",
    ")\n"
   ]
  },
  {
   "cell_type": "code",
   "execution_count": 14,
   "id": "6aae8e17-bb1e-4f8d-94e6-4855f2077a26",
   "metadata": {
    "tags": []
   },
   "outputs": [
    {
     "name": "stdout",
     "output_type": "stream",
     "text": [
      "{}\n",
      "CPU times: user 3.5 ms, sys: 0 ns, total: 3.5 ms\n",
      "Wall time: 790 ms\n"
     ]
    }
   ],
   "source": [
    "%%time\n",
    "pprint.pprint(\n",
    "    extract('Today Alice MacDonald is turning sixty days old. She had blue eyes. '\n",
    "            'Bob is turning 10 years old. His eyes were bright red.', form, llm), \n",
    "indent=2)"
   ]
  },
  {
   "cell_type": "code",
   "execution_count": 15,
   "id": "214daf5f-0026-4880-a066-06ecaf73b7b8",
   "metadata": {
    "tags": []
   },
   "outputs": [
    {
     "name": "stdout",
     "output_type": "stream",
     "text": [
      "{ 'attribute-filter': [ { 'attribute': ['market cap'],\n",
      "                          'op': ['>'],\n",
      "                          'value': ['1 million']},\n",
      "                        { 'attribute': ['employees'],\n",
      "                          'op': ['<'],\n",
      "                          'value': ['50']}],\n",
      "  'attribute_selection': ['revenue', 'eps']}\n",
      "CPU times: user 2.65 ms, sys: 4.03 ms, total: 6.68 ms\n",
      "Wall time: 4.12 s\n"
     ]
    }
   ],
   "source": [
    "%%time\n",
    "pprint.pprint(\n",
    "    extract('revenue, eps of indian companies that have market cap of over 1 million, '\n",
    "            'but less than 50 employees and own red and blue buildings', form, llm\n",
    "           ), indent=2)"
   ]
  },
  {
   "cell_type": "code",
   "execution_count": 16,
   "id": "d631862c-175e-42bb-83ab-1cfea635a684",
   "metadata": {
    "tags": []
   },
   "outputs": [
    {
     "name": "stdout",
     "output_type": "stream",
     "text": [
      "{ 'attribute-filter': [ { 'attribute': ['market cap'],\n",
      "                          'op': ['>'],\n",
      "                          'value': ['1 million']},\n",
      "                        { 'attribute': ['employees'],\n",
      "                          'op': ['in'],\n",
      "                          'value': ['20', '50']}],\n",
      "  'attribute_selection': ['revenue', 'eps'],\n",
      "  'geography-name': ['india']}\n",
      "CPU times: user 5.81 ms, sys: 137 µs, total: 5.94 ms\n",
      "Wall time: 4.37 s\n"
     ]
    }
   ],
   "source": [
    "%%time\n",
    "pprint.pprint(extract('revenue, eps of indian companies that have market cap of over 1 million, and and between 20-50 employees', form, llm), indent=2)"
   ]
  },
  {
   "cell_type": "code",
   "execution_count": 17,
   "id": "2a620246-4c85-4256-8f58-0acbcc9455a3",
   "metadata": {
    "tags": []
   },
   "outputs": [
    {
     "name": "stdout",
     "output_type": "stream",
     "text": [
      "{ 'attribute-filter': [ { 'attribute': ['building color'],\n",
      "                          'op': ['in'],\n",
      "                          'value': ['red', 'blue']}]}\n",
      "CPU times: user 5.6 ms, sys: 0 ns, total: 5.6 ms\n",
      "Wall time: 1.74 s\n"
     ]
    }
   ],
   "source": [
    "%%time\n",
    "pprint.pprint(extract('companies that own red and blue buildings', form, llm), indent=2)"
   ]
  },
  {
   "cell_type": "code",
   "execution_count": 18,
   "id": "4745517e-507e-4d1a-97e0-d143fa34cea2",
   "metadata": {
    "tags": []
   },
   "outputs": [
    {
     "name": "stdout",
     "output_type": "stream",
     "text": [
      "{ 'attribute_selection': ['revenue'],\n",
      "  'geography-sales': ['germany'],\n",
      "  'sort-block': [ { 'attribute': ['number of employees'],\n",
      "                    'direction': ['descending']}]}\n",
      "CPU times: user 17.1 ms, sys: 0 ns, total: 17.1 ms\n",
      "Wall time: 2.66 s\n"
     ]
    }
   ],
   "source": [
    "b%%time\n",
    "pprint.pprint(extract('revenue of largest german companies sorted by number of employees', form, llm), indent=2)"
   ]
  }
 ],
 "metadata": {
  "kernelspec": {
   "display_name": "Python 3 (ipykernel)",
   "language": "python",
   "name": "python3"
  },
  "language_info": {
   "codemirror_mode": {
    "name": "ipython",
    "version": 3
   },
   "file_extension": ".py",
   "mimetype": "text/x-python",
   "name": "python",
   "nbconvert_exporter": "python",
   "pygments_lexer": "ipython3",
   "version": "3.11.2"
  }
 },
 "nbformat": 4,
 "nbformat_minor": 5
}
