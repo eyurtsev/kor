{
 "cells": [
  {
   "cell_type": "markdown",
   "id": "6fcfbb4c-e91d-46aa-8653-38f094146c0c",
   "metadata": {},
   "source": [
    "# Quick Introduction\n",
    "\n",
    "As you're working through the code, please note the errors \n",
    "that are being made to better understand the limitations of this approach."
   ]
  },
  {
   "cell_type": "code",
   "execution_count": 1,
   "id": "fe40bbba-e7ec-4cf9-ab79-16139e6e7e94",
   "metadata": {
    "nbsphinx": "hidden",
    "tags": []
   },
   "outputs": [],
   "source": [
    "%load_ext autoreload\n",
    "%autoreload 2"
   ]
  },
  {
   "cell_type": "code",
   "execution_count": 2,
   "id": "ea602017-6b8a-4b42-850a-686cae35809f",
   "metadata": {
    "nbsphinx": "hidden",
    "tags": []
   },
   "outputs": [],
   "source": [
    "import sys\n",
    "import pprint"
   ]
  },
  {
   "cell_type": "code",
   "execution_count": 3,
   "id": "ae7d98ba-5ca8-4ce5-b54a-ef100affa9f5",
   "metadata": {
    "nbsphinx": "hidden",
    "tags": []
   },
   "outputs": [],
   "source": [
    "sys.path.insert(0, \"../../\")"
   ]
  },
  {
   "cell_type": "code",
   "execution_count": 4,
   "id": "718c66a7-6186-4ed8-87e9-5ed28e3f209e",
   "metadata": {
    "tags": []
   },
   "outputs": [],
   "source": [
    "from kor.extraction import Extractor\n",
    "from kor.nodes import Object, Text, Number\n",
    "from kor.llms import OpenAIChatCompletion, OpenAICompletion"
   ]
  },
  {
   "cell_type": "markdown",
   "id": "a8e35f32-84c5-4261-9e71-d0c1d367b73d",
   "metadata": {
    "tags": []
   },
   "source": [
    "## LLM\n",
    "\n",
    "Instantiate an LLM."
   ]
  },
  {
   "cell_type": "code",
   "execution_count": 24,
   "id": "91859675-85a7-4b62-9368-cbb441cbe355",
   "metadata": {
    "tags": []
   },
   "outputs": [],
   "source": [
    "llm = OpenAIChatCompletion(model=\"gpt-3.5-turbo\")"
   ]
  },
  {
   "cell_type": "markdown",
   "id": "f3e46f9c-8742-49c6-ab52-a93ffaedb53f",
   "metadata": {},
   "source": [
    "You can alternatively use a something like `text-davinci-003`, using `llm = OpenAICompletion(model='text-davinci-003')`."
   ]
  },
  {
   "cell_type": "markdown",
   "id": "afdabe59-b7d4-4b65-ac27-b91c37fabcd3",
   "metadata": {},
   "source": [
    "Now, create an extractor instance. \n",
    "\n",
    "The extactor is responsible for generating a prompt, feeding it into the LLM and parsing out the output.\n",
    "\n",
    "Here, I'm calling the extractor instance a `model`."
   ]
  },
  {
   "cell_type": "code",
   "execution_count": 25,
   "id": "9666b3b9-e48e-41ab-91b5-7bc6ec5983df",
   "metadata": {
    "tags": []
   },
   "outputs": [],
   "source": [
    "model = Extractor(llm)"
   ]
  },
  {
   "cell_type": "markdown",
   "id": "6645f896-c969-444d-b9f2-85318abb79d6",
   "metadata": {},
   "source": [
    "## Schema\n",
    "\n",
    "Kor requires that you specify the `schema` of what you want parsed with some optional examples.\n",
    "\n",
    "Here, we'll specify that we want to extract *first names* from text.\n",
    "\n",
    "As part of the schema, we include a `description` of what we're extracting as well as 2 examples. \n",
    "\n",
    "Including both a `description` and `examples` will likely improve performance."
   ]
  },
  {
   "cell_type": "code",
   "execution_count": 26,
   "id": "8c97a013-5443-442a-a87c-b3f4bff21bf6",
   "metadata": {
    "tags": []
   },
   "outputs": [],
   "source": [
    "schema = Text(\n",
    "    id=\"first_name\",\n",
    "    description=\"The first name of a person\",\n",
    "    examples=[(\"I am billy.\", \"billy\"), (\"John Smith is 33 years old\", \"John\")],\n",
    ")"
   ]
  },
  {
   "cell_type": "markdown",
   "id": "a6849441-f9ae-468d-9003-b26bfa0253dd",
   "metadata": {
    "tags": []
   },
   "source": [
    "## Extract\n",
    "\n",
    "With a `model` and a `schema` defined, we're ready to extract data."
   ]
  },
  {
   "cell_type": "code",
   "execution_count": 27,
   "id": "f6102c88-4147-43f4-800f-28e1ce6b2aa2",
   "metadata": {
    "tags": []
   },
   "outputs": [
    {
     "data": {
      "text/plain": [
       "{'first_name': ['Tom', 'Bobby']}"
      ]
     },
     "execution_count": 27,
     "metadata": {},
     "output_type": "execute_result"
    }
   ],
   "source": [
    "model(\"My name is Tom. I am a cat. My best friend is Bobby. He is not a cat.\", schema)"
   ]
  },
  {
   "cell_type": "code",
   "execution_count": 28,
   "id": "69148111-77e1-450c-ba38-fd46c3730de2",
   "metadata": {
    "tags": []
   },
   "outputs": [
    {
     "data": {
      "text/plain": [
       "{'first_name': ['WOW']}"
      ]
     },
     "execution_count": 28,
     "metadata": {},
     "output_type": "execute_result"
    }
   ],
   "source": [
    "model(\"My name is My name is My name is WOW.\", schema)"
   ]
  },
  {
   "cell_type": "code",
   "execution_count": 29,
   "id": "000dc5f9-ff7b-466d-ae18-142490129ba6",
   "metadata": {
    "tags": []
   },
   "outputs": [
    {
     "data": {
      "text/plain": [
       "{'first_name': ['MOO', 'MOO', 'MOO']}"
      ]
     },
     "execution_count": 29,
     "metadata": {},
     "output_type": "execute_result"
    }
   ],
   "source": [
    "# Note the extraction here. It's unlikely to be reasonable.\n",
    "model(\"My name is My name is My name is MOO MOO.\", schema)"
   ]
  },
  {
   "cell_type": "code",
   "execution_count": 30,
   "id": "4ccc9bf3-022c-4fdb-a018-7e1f422734a9",
   "metadata": {
    "tags": []
   },
   "outputs": [
    {
     "data": {
      "text/plain": [
       "{'first_name': ['Bobby', 'Cobby']}"
      ]
     },
     "execution_count": 30,
     "metadata": {},
     "output_type": "execute_result"
    }
   ],
   "source": [
    "model(\n",
    "    (\n",
    "        \"My name is Bobby. My brother's name is the same as mine except that it starts\"\n",
    "        \" with a `C`.\"\n",
    "    ),\n",
    "    schema,\n",
    ")"
   ]
  },
  {
   "cell_type": "code",
   "execution_count": 31,
   "id": "ebbe576b-0796-448a-99c4-ce903917ad27",
   "metadata": {
    "tags": []
   },
   "outputs": [
    {
     "data": {
      "text/plain": [
       "{'first_name': ['Bobby']}"
      ]
     },
     "execution_count": 31,
     "metadata": {},
     "output_type": "execute_result"
    }
   ],
   "source": [
    "model(\"My name is Bobby. My brother's name rhymes with mine.\", schema)"
   ]
  },
  {
   "cell_type": "markdown",
   "id": "65773928-027c-4340-a635-969b41f73de2",
   "metadata": {},
   "source": [
    "## The actual prompt\n",
    "\n",
    "Here is the actual prompt that is sent LLM."
   ]
  },
  {
   "cell_type": "code",
   "execution_count": 32,
   "id": "26ca8ecd-3800-4bbe-87c9-87fe9e02b717",
   "metadata": {
    "tags": []
   },
   "outputs": [
    {
     "name": "stdout",
     "output_type": "stream",
     "text": [
      "Your goal is to extract structured information from the user's input that matches the form described below. When extracting information please make sure it matches the type information exactly. Do not add any attributes that do not appear in the schema shown below.\n",
      "\n",
      "```TypeScript\n",
      "\n",
      "{\n",
      "\n",
      "first_name: string[] // The first name of a person\n",
      "}\n",
      "\n",
      "```\n",
      "\n",
      "\n",
      "For Union types the output must EXACTLY match one of the members of the Union type.\n",
      "\n",
      "Please enclose the extracted information in HTML style tags with the tag name corresponding to the corresponding component ID. Use angle style brackets for the tags ('>' and '<'). Only output tags when you're confident about the information that was extracted from the user's query. If you can extract several pieces of relevant information from the query, then include all of them. If the type is an array, please repeat the corresponding tag name multiple times once for each relevant extraction. \n",
      "\n",
      "Input: I am billy.\n",
      "Output: <first_name>billy</first_name>\n",
      "Input: John Smith is 33 years old\n",
      "Output: <first_name>John</first_name>\n",
      "Input: user input goes here\n",
      "Output:\n"
     ]
    }
   ],
   "source": [
    "print(model.prompt_generator.format_as_string(\"user input goes here\", schema))"
   ]
  },
  {
   "cell_type": "code",
   "execution_count": 34,
   "id": "631a9c26-0d07-4542-a1ad-c93ad7f11e6a",
   "metadata": {
    "tags": []
   },
   "outputs": [],
   "source": [
    "## Gotchyas"
   ]
  },
  {
   "cell_type": "markdown",
   "id": "b74b5145-6360-4091-afca-4690a0a07d2f",
   "metadata": {},
   "source": [
    "## Phone Numbers"
   ]
  },
  {
   "cell_type": "markdown",
   "id": "2726f5d4-3f1a-4908-9e71-84b8a84ab309",
   "metadata": {
    "tags": []
   },
   "source": [
    "## Sometimes it might work without examples, but having a few examples is recommended"
   ]
  },
  {
   "cell_type": "code",
   "execution_count": 17,
   "id": "086f5465-6455-4e90-9984-a65cbc2cf6fa",
   "metadata": {
    "tags": []
   },
   "outputs": [],
   "source": [
    "schema = Text(\n",
    "    id=\"phone_number\",\n",
    "    description=\"Any phone numbers found in the text format should be 9 digit\",\n",
    ")"
   ]
  },
  {
   "cell_type": "code",
   "execution_count": 18,
   "id": "f44d099a-0878-4d4b-b9a7-8fb14848d6f4",
   "metadata": {
    "tags": []
   },
   "outputs": [
    {
     "data": {
      "text/plain": [
       "{'phone_number': ['(123)4449999', '(333)1232832']}"
      ]
     },
     "execution_count": 18,
     "metadata": {},
     "output_type": "execute_result"
    }
   ],
   "source": [
    "model(\n",
    "    (\n",
    "        \"My phone number is (123)-444-9999. I found my true love one on a blue sunday.\"\n",
    "        \" Her number was (333)1232832\"\n",
    "    ),\n",
    "    schema,\n",
    ")"
   ]
  },
  {
   "cell_type": "code",
   "execution_count": 19,
   "id": "559f5f66-2f85-4fc9-9a66-2fd3842041c8",
   "metadata": {
    "tags": []
   },
   "outputs": [],
   "source": [
    "schema = Text(\n",
    "    id=\"phone_number\",\n",
    "    description=\"Any phone numbers found in the text format should be 9 digit\",\n",
    "    examples=[(\"Someone called me from 123-123-1234\", \"123-123-1234\")],\n",
    ")"
   ]
  },
  {
   "cell_type": "code",
   "execution_count": 20,
   "id": "5571951a-bbaf-4c94-a749-60573fa6539d",
   "metadata": {
    "tags": []
   },
   "outputs": [
    {
     "data": {
      "text/plain": [
       "{'phone_number': ['(123)-444-9999', '(333)1232832']}"
      ]
     },
     "execution_count": 20,
     "metadata": {},
     "output_type": "execute_result"
    }
   ],
   "source": [
    "model(\n",
    "    (\n",
    "        \"My phone number is (123)-444-9999. I found my true love one on a blue sunday.\"\n",
    "        \" Her number was (333)1232832\"\n",
    "    ),\n",
    "    schema,\n",
    ")"
   ]
  },
  {
   "cell_type": "markdown",
   "id": "5d3beab3-6dea-4301-8c59-ae1685830afa",
   "metadata": {},
   "source": [
    "# Extracting Multiple Attributes\n",
    "\n",
    "Here examples are specified independently on a per attribute level.\n",
    "\n",
    "This is done for convenience and will sometimes work, even though individually specified examples can be contradictory (as is the case for first and last name below!"
   ]
  },
  {
   "cell_type": "code",
   "execution_count": 28,
   "id": "3bb910e9-43c4-42dd-83dd-546b7df6e805",
   "metadata": {
    "tags": []
   },
   "outputs": [],
   "source": [
    "schema = Object(\n",
    "    id=\"personal_info\",\n",
    "    description=\"Personal information about a given person.\",\n",
    "    attributes=[\n",
    "        Text(\n",
    "            id=\"first_name\",\n",
    "            description=\"The first name of the person\",\n",
    "            examples=[(\"John Smith went to the store\", \"John\")],\n",
    "        ),\n",
    "        Text(\n",
    "            id=\"last_name\",\n",
    "            description=\"The last name of the person\",\n",
    "            examples=[(\"John Smith went to the store\", \"Smith\")],\n",
    "        ),\n",
    "        Number(\n",
    "            id=\"age\",\n",
    "            description=\"The age of the person in years.\",\n",
    "            examples=[(\"23 years old\", \"23\"), (\"I turned three on sunday\", \"3\")],\n",
    "        ),\n",
    "    ],\n",
    ")"
   ]
  },
  {
   "cell_type": "code",
   "execution_count": 29,
   "id": "8be30aa6-a095-4506-8ec9-bde84dd107d3",
   "metadata": {
    "tags": []
   },
   "outputs": [
    {
     "data": {
      "text/plain": [
       "{}"
      ]
     },
     "execution_count": 29,
     "metadata": {},
     "output_type": "execute_result"
    }
   ],
   "source": [
    "model(\n",
    "    (\n",
    "        \"My phone number is (123)-444-9999. I found my true love one on a blue sunday.\"\n",
    "        \" Her number was (333)1232832\"\n",
    "    ),\n",
    "    schema,\n",
    ")"
   ]
  },
  {
   "cell_type": "markdown",
   "id": "0c2ee348-4908-4deb-859c-e860309a77f9",
   "metadata": {},
   "source": [
    "## The model sometimes doesn't follow the schema\n",
    "\n",
    "One would have to create a validation layer on top (doesn't exist yet)"
   ]
  },
  {
   "cell_type": "code",
   "execution_count": 30,
   "id": "611ed04e-e8be-4941-9745-d62000eb56bd",
   "metadata": {
    "tags": []
   },
   "outputs": [
    {
     "data": {
      "text/plain": [
       "{'personal_info': [{'first_name': ['Bob']},\n",
       "  {'phone_number': ['(123)-444-9999']},\n",
       "  {'phone_number': ['(333)1232832']}]}"
      ]
     },
     "execution_count": 30,
     "metadata": {},
     "output_type": "execute_result"
    }
   ],
   "source": [
    "model(\n",
    "    (\n",
    "        \"My name is Bob and my phone number is (123)-444-9999. I found my true love one\"\n",
    "        \" on a blue sunday. Her number was (333)1232832\"\n",
    "    ),\n",
    "    schema,\n",
    ")"
   ]
  },
  {
   "cell_type": "markdown",
   "id": "ea520ab9-38ae-4fc2-ab95-468df85f200e",
   "metadata": {},
   "source": [
    "## But adding more examples helps prevent hallucinations"
   ]
  },
  {
   "cell_type": "code",
   "execution_count": 31,
   "id": "9a300e76-2f26-4914-b160-1d90548714a0",
   "metadata": {
    "tags": []
   },
   "outputs": [],
   "source": [
    "schema = Object(\n",
    "    id=\"personal_info\",\n",
    "    description=\"Personal information about a given person.\",\n",
    "    attributes=[\n",
    "        Text(\n",
    "            id=\"first_name\",\n",
    "            description=\"The first name of the person\",\n",
    "            examples=[(\"John Smith went to the store\", \"John\")],\n",
    "        ),\n",
    "        Text(\n",
    "            id=\"last_name\",\n",
    "            description=\"The last name of the person\",\n",
    "            examples=[(\"John Smith went to the store\", \"Smith\")],\n",
    "        ),\n",
    "        Number(\n",
    "            id=\"age\",\n",
    "            description=\"The age of the person in years.\",\n",
    "            examples=[(\"23 years old\", \"23\"), (\"I turned three on sunday\", \"3\")],\n",
    "        ),\n",
    "    ],\n",
    "    examples=[\n",
    "        (\n",
    "            \"John Smith was 23 years old\",\n",
    "            {\"first_name\": \"John\", \"last_name\": \"Smith\", \"age\": \"23\"},\n",
    "        )\n",
    "    ],\n",
    ")"
   ]
  },
  {
   "cell_type": "code",
   "execution_count": 33,
   "id": "582b5624-332b-412e-ae22-9298d8563ea5",
   "metadata": {
    "tags": []
   },
   "outputs": [
    {
     "data": {
      "text/plain": [
       "{'personal_info': [{'first_name': ['Bob']}]}"
      ]
     },
     "execution_count": 33,
     "metadata": {},
     "output_type": "execute_result"
    }
   ],
   "source": [
    "model(\n",
    "    (\n",
    "        \"My name is Bob and my phone number is (123)-444-9999. I found my true love one\"\n",
    "        \" on a blue sunday. Her number was (333)1232832\"\n",
    "    ),\n",
    "    schema,\n",
    ")"
   ]
  },
  {
   "cell_type": "markdown",
   "id": "8d5e4bcc-1fe5-4bdd-b1e2-00e0c7577cbb",
   "metadata": {},
   "source": [
    "### What's the actual prompt?"
   ]
  },
  {
   "cell_type": "code",
   "execution_count": 35,
   "id": "a2944e8c-4630-4b29-b505-b2ca6fceba01",
   "metadata": {
    "tags": []
   },
   "outputs": [
    {
     "name": "stdout",
     "output_type": "stream",
     "text": [
      "Your goal is to extract structured information from the user's input that matches the form described below. When extracting information please make sure it matches the type information exactly. \n",
      "\n",
      "```TypeScript\n",
      "\n",
      "personal_info: {\n",
      " first_name: string[] // The first name of the person\n",
      " last_name: string[] // The last name of the person\n",
      " age: number[] // The age of the person in years.\n",
      "}\n",
      "```\n",
      "\n",
      "\n",
      "For Union types the output must EXACTLY match one of the members of the Union type.\n",
      "\n",
      "Please enclose the extracted information in HTML style tags with the tag name corresponding to the corresponding component ID. Use angle style brackets for the tags ('>' and '<'). Only output tags when you're confident about the information that was extracted from the user's query. If you can extract several pieces of relevant information from the query, then include all of them. If the type is an array, please repeat the corresponding tag name multiple times once for each relevant extraction. \n",
      "\n",
      "Input: John Smith was 23 years old\n",
      "Output: <personal_info><age>23</age><first_name>John</first_name><last_name>Smith</last_name></personal_info>\n",
      "Input: John Smith went to the store\n",
      "Output: <personal_info><first_name>John</first_name></personal_info>\n",
      "Input: John Smith went to the store\n",
      "Output: <personal_info><last_name>Smith</last_name></personal_info>\n",
      "Input: 23 years old\n",
      "Output: <personal_info><age>23</age></personal_info>\n",
      "Input: I turned three on sunday\n",
      "Output: <personal_info><age>3</age></personal_info>\n",
      "Input: user input goes here\n",
      "Output:\n"
     ]
    }
   ],
   "source": [
    "print(model.prompt_generator.format_as_string(\"user input goes here\", schema))"
   ]
  },
  {
   "cell_type": "markdown",
   "id": "b5797171-a806-474d-93b8-d569d0355a30",
   "metadata": {},
   "source": [
    "## More complex prompt\n",
    "\n",
    "Same schema but more complex prompt.\n",
    "\n",
    "Please note that Alice's age is in days not in years!"
   ]
  },
  {
   "cell_type": "code",
   "execution_count": null,
   "id": "b7f1dece-3a0f-4507-8e8f-4c18cbc4b5fd",
   "metadata": {},
   "outputs": [],
   "source": [
    "user_input = (\n",
    "    \"Today Alice MacDonald is turning sixty days old. She had blue eyes. \"\n",
    "    \"Bob is turning 10 years old. His eyes were bright red. Chris Prass used his \"\n",
    "    \"green eyes to look at Dorothy to find 15 year old eyes staring back at him. \"\n",
    "    \"Prass was a piano teacher. Dorothy was a certified mechanic. \"\n",
    "    \"All certified mechanics have yellow eyes.\"\n",
    ")"
   ]
  },
  {
   "cell_type": "code",
   "execution_count": null,
   "id": "aa43e654-df0c-4e60-8eab-f4d4927e368b",
   "metadata": {},
   "outputs": [],
   "source": [
    "schema = Object(\n",
    "    id=\"personal_info\",\n",
    "    description=\"Personal information about a given person.\",\n",
    "    attributes=[\n",
    "        Text(\n",
    "            id=\"first_name\",\n",
    "            description=\"The first name of the person\",\n",
    "            examples=[(\"John Smith went to the store\", \"John\")],\n",
    "        ),\n",
    "        Text(\n",
    "            id=\"last_name\",\n",
    "            description=\"The last name of the person\",\n",
    "            examples=[(\"John Smith went to the store\", \"Smith\")],\n",
    "        ),\n",
    "        Number(\n",
    "            id=\"age\",\n",
    "            description=\"The age of the person in years.\",\n",
    "            examples=[(\"23 years old\", \"23\"), (\"I turned three on sunday\", \"3\")],\n",
    "        ),\n",
    "    ],\n",
    "    examples=[\n",
    "        (\n",
    "            \"John Smith was 23 years old\",\n",
    "            {\"first_name\": \"John\", \"last_name\": \"Smith\", \"age\": \"23\"},\n",
    "        )\n",
    "    ],\n",
    ")"
   ]
  },
  {
   "cell_type": "code",
   "execution_count": null,
   "id": "0d4a342f-cca5-49a7-ab44-2411cc47c0be",
   "metadata": {},
   "outputs": [],
   "source": [
    "# Note that Alice age is reported in days above\n",
    "model(user_input, schema)"
   ]
  },
  {
   "cell_type": "markdown",
   "id": "f2464529-fa6f-49f9-8773-2661675b1feb",
   "metadata": {},
   "source": [
    "# More complex schema"
   ]
  },
  {
   "cell_type": "code",
   "execution_count": 44,
   "id": "4d9e07be-051d-46f5-9173-025f491fb99e",
   "metadata": {
    "tags": []
   },
   "outputs": [],
   "source": [
    "schema = Object(\n",
    "    id=\"personalinfo\",\n",
    "    description=\"Collect information about a person.\",\n",
    "    attributes=[\n",
    "        Text(\n",
    "            id=\"profession\",\n",
    "            description=\"The person's profession?\",\n",
    "            examples=[\n",
    "                (\"He was a professor\", \"professor\"),\n",
    "                (\"Bob was a lawyer and a politician\", [\"lawyer\", \"politician\"]),\n",
    "            ],\n",
    "        ),\n",
    "        Text(\n",
    "            id=\"first_name\",\n",
    "            description=\"The person's first name\",\n",
    "            examples=[(\"Billy was here\", \"Billy\"), (\"Bob was very tall\", \"Bob\")],\n",
    "        ),\n",
    "        Text(\n",
    "            id=\"last_name\",\n",
    "            description=\"The person's last name\",\n",
    "            examples=[(\"Joe Donatello was very tall\", \"Donatello\")],\n",
    "        ),\n",
    "        Text(\n",
    "            id=\"eye_color\",\n",
    "            description=\"The person's eye color?\",\n",
    "            examples=[(\"my eyes are green\", \"green\")],\n",
    "        ),\n",
    "        Object(\n",
    "            id=\"age\",\n",
    "            attributes=[\n",
    "                Number(\n",
    "                    id=\"number\",\n",
    "                    description=\"what is the person's age?\",\n",
    "                    examples=[(\"10 years old\", 10)],\n",
    "                ),\n",
    "                Text(\n",
    "                    id=\"unit\",\n",
    "                    description=\"In which units is the age reported in?\",\n",
    "                    examples=[(\"10 years old\", \"years\"), (\"22 days\", \"days\")],\n",
    "                ),\n",
    "            ],\n",
    "        ),\n",
    "    ],\n",
    "    examples=[],\n",
    ")"
   ]
  },
  {
   "cell_type": "code",
   "execution_count": 45,
   "id": "89ad6a27-cf0c-4da8-8ff7-ae3f787e29fb",
   "metadata": {
    "tags": []
   },
   "outputs": [],
   "source": [
    "user_input = (\n",
    "    \"Today Alice MacDonald is turning sixty days old. She had blue eyes. \"\n",
    "    \"Bob is turning 10 years old. His eyes were bright red. Chris Prass used his \"\n",
    "    \"green eyes to look at Dorothy to find 15 year old eyes staring back at him. \"\n",
    "    \"Prass was a piano teacher. Dorothy was a certified mechanic. \"\n",
    "    \"All certified mechanics have yellow eyes.\"\n",
    ")"
   ]
  },
  {
   "cell_type": "code",
   "execution_count": 48,
   "id": "93668b59-6e8c-4ad8-abf9-8cba62ccc2b7",
   "metadata": {
    "tags": []
   },
   "outputs": [
    {
     "data": {
      "text/plain": [
       "{'personalinfo': [{'first_name': ['Alice'],\n",
       "   'last_name': ['MacDonald'],\n",
       "   'age': [{'number': ['60'], 'unit': ['days']}],\n",
       "   'eye_color': ['blue']},\n",
       "  {'first_name': ['Bob'],\n",
       "   'age': [{'number': ['10'], 'unit': ['years']}],\n",
       "   'eye_color': ['bright red']},\n",
       "  {'first_name': ['Chris'],\n",
       "   'last_name': ['Prass'],\n",
       "   'profession': ['piano teacher'],\n",
       "   'eye_color': ['green']},\n",
       "  {'first_name': ['Dorothy'],\n",
       "   'profession': ['certified mechanic'],\n",
       "   'eye_color': ['yellow']},\n",
       "  {'age': [{'number': ['15'], 'unit': ['year']}],\n",
       "   'eye_color': ['staring back']}]}"
      ]
     },
     "execution_count": 48,
     "metadata": {},
     "output_type": "execute_result"
    }
   ],
   "source": [
    "# Note that Alice age is reported in days above\n",
    "model(user_input, schema)"
   ]
  },
  {
   "cell_type": "code",
   "execution_count": 53,
   "id": "ec341db6-ab1f-456d-94e1-ede43b1c0381",
   "metadata": {
    "tags": []
   },
   "outputs": [],
   "source": [
    "FROM_ADDRESS = Object(\n",
    "    id=\"from_address\",\n",
    "    description=\"Person moved away from this address\",\n",
    "    attributes=[\n",
    "        Text(id=\"street\"),\n",
    "        Text(id=\"city\"),\n",
    "        Text(id=\"state\"),\n",
    "        Text(id=\"zipcode\"),\n",
    "        Text(id=\"country\", description=\"A country in the world; e.g., France.\"),\n",
    "    ],\n",
    "    examples=[\n",
    "        (\n",
    "            \"100 Main St, Boston,MA, 23232, USA\",\n",
    "            {\n",
    "                \"street\": \"100 Marlo St\",\n",
    "                \"city\": \"Boston\",\n",
    "                \"state\": \"MA\",\n",
    "                \"zipcode\": \"23232\",\n",
    "                \"country\": \"USA\",\n",
    "            },\n",
    "        )\n",
    "    ],\n",
    ")"
   ]
  },
  {
   "cell_type": "code",
   "execution_count": 54,
   "id": "b333b284-9618-44b0-a2e8-69b1939b2392",
   "metadata": {
    "tags": []
   },
   "outputs": [],
   "source": [
    "TO_ADDRESS = FROM_ADDRESS.replace(\n",
    "    id=\"to_address\", description=\"Address to which the person is moving\"\n",
    ")"
   ]
  },
  {
   "cell_type": "code",
   "execution_count": 55,
   "id": "2311ea1c-1f7f-4027-a22a-bd46b905d126",
   "metadata": {
    "tags": []
   },
   "outputs": [],
   "source": [
    "form = Object(\n",
    "    id=\"information\",\n",
    "    attributes=[\n",
    "        Text(\n",
    "            id=\"person_name\",\n",
    "            description=\"The full name of the person or partial name\",\n",
    "            examples=[(\"John Smith was here\", \"John Smith\")],\n",
    "        ),\n",
    "        FROM_ADDRESS,\n",
    "        TO_ADDRESS,\n",
    "    ],\n",
    ")"
   ]
  },
  {
   "cell_type": "code",
   "execution_count": 57,
   "id": "16aa93c3-ac85-4f0a-98f8-92b23d1d934f",
   "metadata": {
    "tags": []
   },
   "outputs": [
    {
     "data": {
      "text/plain": [
       "{'information': [{'person_name': ['Alice Doe', 'Bob Smith'],\n",
       "   'from_address': [{'city': ['New York']}],\n",
       "   'to_address': [{'city': ['Boston']}]}]}"
      ]
     },
     "execution_count": 57,
     "metadata": {},
     "output_type": "execute_result"
    }
   ],
   "source": [
    "model(\"Alice Doe and Bob Smith moved from New York to Boston\", form)"
   ]
  },
  {
   "cell_type": "markdown",
   "id": "cfc92a23-56c2-466f-a89d-61f8cb5f10d5",
   "metadata": {},
   "source": [
    "## LIMITATION! Currently, grouping correctly is difficult due to ambiguity\n",
    "\n",
    "Because every type in Kor could be interpreted as a list.\n",
    "At the moment, one should specify object level examples, to help the model determine how to group things correctly."
   ]
  },
  {
   "cell_type": "code",
   "execution_count": 60,
   "id": "4397e231-b32d-45a3-89a4-f8dcc3672a1a",
   "metadata": {
    "tags": []
   },
   "outputs": [],
   "source": [
    "form = Object(\n",
    "    id=\"information\",\n",
    "    attributes=[\n",
    "        Text(\n",
    "            id=\"person_name\",\n",
    "            description=\"The full name of the person or partial name\",\n",
    "            examples=[(\"John Smith was here\", \"John Smith\")],\n",
    "        ),\n",
    "        FROM_ADDRESS,\n",
    "        TO_ADDRESS,\n",
    "    ],\n",
    "    examples=[\n",
    "        (\n",
    "            \"John Smith moved to Boston from New York. Billy moved to LA.\",\n",
    "            [\n",
    "                {\n",
    "                    \"person_name\": \"John Smith\",\n",
    "                    \"from_address\": {\"city\": \"New York\"},\n",
    "                    \"to_address\": {\"city\": \"Boston\"},\n",
    "                },\n",
    "                {\"person_name\": \"Billy\", \"to_address\": {\"city\": \"LA\"}},\n",
    "            ],\n",
    "        )\n",
    "    ],\n",
    ")"
   ]
  },
  {
   "cell_type": "code",
   "execution_count": 63,
   "id": "63f1fa72-bf97-4b09-878b-792e8cbcbb0f",
   "metadata": {
    "tags": []
   },
   "outputs": [
    {
     "data": {
      "text/plain": [
       "{'information': [{'from_address': [{'city': ['New York']}],\n",
       "   'person_name': ['Alice Doe'],\n",
       "   'to_address': [{'city': ['Boston']}]},\n",
       "  {'from_address': [{'city': ['New York']}],\n",
       "   'person_name': ['Bob Smith'],\n",
       "   'to_address': [{'city': ['Boston']}]},\n",
       "  {'person_name': ['Andrew']},\n",
       "  {'person_name': ['Joana'], 'to_address': [{'city': ['Boston']}]},\n",
       "  {'person_name': ['Paul'], 'to_address': [{'city': ['Boston']}]},\n",
       "  {'person_name': ['Betty'],\n",
       "   'from_address': [{'city': ['Boston']}],\n",
       "   'to_address': [{'city': ['New York']}]}]}"
      ]
     },
     "execution_count": 63,
     "metadata": {},
     "output_type": "execute_result"
    }
   ],
   "source": [
    "model(\n",
    "    (\n",
    "        \"Alice Doe and Bob Smith moved from New York to Boston. Andrew was 12 years\"\n",
    "        \" old. He also moved to Boston. So did Joana and Paul. Betty did the opposite.\"\n",
    "    ),\n",
    "    form,\n",
    ")"
   ]
  },
  {
   "cell_type": "markdown",
   "id": "e382f417-b281-4567-8cac-d205291de3a4",
   "metadata": {},
   "source": [
    "## Untyped Obects\n",
    "\n",
    "One does not have to type an object. And can instead rely on just the examples.\n",
    "\n",
    "It's unclear 🤷🤷🤷 if the quality of the results is affected significantly, if one controls for the number of examples. "
   ]
  },
  {
   "cell_type": "code",
   "execution_count": 74,
   "id": "4325ac08-248f-4c57-bca9-478f8cab0436",
   "metadata": {
    "tags": []
   },
   "outputs": [],
   "source": [
    "form = Object(\n",
    "    id=\"information\",\n",
    "    attributes=[],\n",
    "    examples=[\n",
    "        (\n",
    "            \"John Smith moved to Boston from New York. Billy moved to LA.\",\n",
    "            [\n",
    "                {\n",
    "                    \"person_name\": \"John Smith\",\n",
    "                    \"from_address\": {\"city\": \"New York\"},\n",
    "                    \"to_address\": {\"city\": \"Boston\"},\n",
    "                },\n",
    "                {\"person_name\": \"Billy\", \"to_address\": {\"city\": \"LA\"}},\n",
    "            ],\n",
    "        )\n",
    "    ],\n",
    ")"
   ]
  },
  {
   "cell_type": "code",
   "execution_count": 75,
   "id": "82c52f44-657e-45fb-8dc0-80155ae63a86",
   "metadata": {
    "tags": []
   },
   "outputs": [
    {
     "data": {
      "text/plain": [
       "{'information': [{'from_address': [{'city': ['New York']}],\n",
       "   'person_name': ['Alice Doe'],\n",
       "   'to_address': [{'city': ['Boston']}]},\n",
       "  {'from_address': [{'city': ['New York']}],\n",
       "   'person_name': ['Bob Smith'],\n",
       "   'to_address': [{'city': ['Boston']}]},\n",
       "  {'person_name': ['Andrew'],\n",
       "   'age': ['12'],\n",
       "   'to_address': [{'city': ['Boston']}]},\n",
       "  {'person_name': ['Joana'], 'to_address': [{'city': ['Boston']}]},\n",
       "  {'person_name': ['Paul'], 'to_address': [{'city': ['Boston']}]},\n",
       "  {'person_name': ['Betty'], 'to_address': [{'city': ['New York']}]}]}"
      ]
     },
     "execution_count": 75,
     "metadata": {},
     "output_type": "execute_result"
    }
   ],
   "source": [
    "model(\n",
    "    (\n",
    "        \"Alice Doe and Bob Smith moved from New York to Boston. Andrew was 12 years\"\n",
    "        \" old. He also moved to Boston. So did Joana and Paul. Betty did the opposite.\"\n",
    "    ),\n",
    "    form,\n",
    ")"
   ]
  },
  {
   "cell_type": "markdown",
   "id": "3c92aa32-25bd-416f-ba71-3506455cb68a",
   "metadata": {},
   "source": [
    "# Flattened Objects"
   ]
  },
  {
   "cell_type": "code",
   "execution_count": 70,
   "id": "df8f7a85-2308-4e50-bcf8-b31c9c5bc882",
   "metadata": {
    "tags": []
   },
   "outputs": [],
   "source": [
    "form = Object(\n",
    "    id=\"information\",\n",
    "    attributes=[\n",
    "        Text(\n",
    "            id=\"person_name\",\n",
    "            description=\"The first name of the person or partial name\",\n",
    "            examples=[(\"John Smith was here\", \"John\")],\n",
    "        ),\n",
    "        Text(\n",
    "            id=\"last_name\",\n",
    "            description=\"The last name of the person or partial name\",\n",
    "            examples=[(\"John Smith was here\", \"Smith\")],\n",
    "        ),\n",
    "    ],\n",
    "    examples=[],\n",
    "    group_as_object=False,  # <-- Please note\n",
    ")"
   ]
  },
  {
   "cell_type": "markdown",
   "id": "5aefd7ff-526e-45f4-9fe0-e3f0586dfee1",
   "metadata": {},
   "source": [
    "## Let's build an API!"
   ]
  },
  {
   "cell_type": "markdown",
   "id": "4a90e50e-aa1b-45c6-920b-4589b424e561",
   "metadata": {},
   "source": [
    "### Order tickets?"
   ]
  },
  {
   "cell_type": "code",
   "execution_count": 81,
   "id": "c50b080b-7179-4bbe-b234-83ce59e2d215",
   "metadata": {
    "tags": []
   },
   "outputs": [],
   "source": [
    "form = Object(\n",
    "    id=\"action\",\n",
    "    description=\"User is looking for sports tickets\",\n",
    "    attributes=[\n",
    "        Text(\n",
    "            id=\"sport\",\n",
    "            description=\"which sports do you want to buy tickets for?\",\n",
    "            examples=[\n",
    "                (\n",
    "                    \"I want to buy tickets to basketball and football games\",\n",
    "                    [\"basketball\", \"footbal\"],\n",
    "                )\n",
    "            ],\n",
    "        ),\n",
    "        Text(\n",
    "            id=\"location\",\n",
    "            description=\"where would you like to watch the game?\",\n",
    "            examples=[\n",
    "                (\"in boston\", \"boston\"),\n",
    "                (\"in france or italy\", [\"france\", \"italy\"]),\n",
    "            ],\n",
    "        ),\n",
    "        Object(\n",
    "            id=\"price_range\",\n",
    "            description=\"how much do you want to spend?\",\n",
    "            attributes=[],\n",
    "            examples=[\n",
    "                (\"no more than $100\", {\"price_max\": \"100\", \"currency\": \"$\"}),\n",
    "                (\n",
    "                    \"between 50 and 100 dollars\",\n",
    "                    {\"price_max\": \"100\", \"price_min\": \"50\", \"currency\": \"$\"},\n",
    "                ),\n",
    "            ],\n",
    "        ),\n",
    "    ],\n",
    ")"
   ]
  },
  {
   "cell_type": "code",
   "execution_count": 84,
   "id": "73c31ace-32dd-4a33-ae39-475db6934f6d",
   "metadata": {
    "tags": []
   },
   "outputs": [
    {
     "name": "stdout",
     "output_type": "stream",
     "text": [
      "CPU times: user 11.8 ms, sys: 4.02 ms, total: 15.8 ms\n",
      "Wall time: 2.01 s\n"
     ]
    },
    {
     "data": {
      "text/plain": [
       "{'action': [{'sport': ['baseball'],\n",
       "   'location': ['LA'],\n",
       "   'price_range': [{'currency': ['$'], 'price_max': ['100']}]}]}"
      ]
     },
     "execution_count": 84,
     "metadata": {},
     "output_type": "execute_result"
    }
   ],
   "source": [
    "%%time\n",
    "model(\"I want to buy tickets for a baseball game in LA area under $100\", form)"
   ]
  },
  {
   "cell_type": "code",
   "execution_count": 85,
   "id": "78e3b3af-bfa8-4503-854a-b83a7f8f49e6",
   "metadata": {
    "tags": []
   },
   "outputs": [
    {
     "name": "stdout",
     "output_type": "stream",
     "text": [
      "CPU times: user 3.24 ms, sys: 459 µs, total: 3.7 ms\n",
      "Wall time: 2.27 s\n"
     ]
    },
    {
     "data": {
      "text/plain": [
       "{'action': [{'sport': ['basketball'],\n",
       "   'location': ['boston'],\n",
       "   'price_range': [{'currency': ['$'],\n",
       "     'price_max': ['40'],\n",
       "     'price_min': ['20']}]}]}"
      ]
     },
     "execution_count": 85,
     "metadata": {},
     "output_type": "execute_result"
    }
   ],
   "source": [
    "%%time\n",
    "model(\n",
    "    (\n",
    "        \"I want to see a celtics game in boston somewhere between 20 and 40 dollars per\"\n",
    "        \" ticket\"\n",
    "    ),\n",
    "    form,\n",
    ")"
   ]
  },
  {
   "cell_type": "markdown",
   "id": "e87b70f3-d4eb-4d82-b0bc-ca43abfe8e96",
   "metadata": {},
   "source": [
    "### Play some music?"
   ]
  },
  {
   "cell_type": "code",
   "execution_count": 88,
   "id": "cf7c3511-dcc4-4d5d-95e4-9dca7e5f8abf",
   "metadata": {
    "tags": []
   },
   "outputs": [],
   "source": [
    "form = Object(\n",
    "    id=\"player\",\n",
    "    description=(\n",
    "        \"User is controling a music player to select songs, pause or start them or play\"\n",
    "        \" music by a particular artist.\"\n",
    "    ),\n",
    "    attributes=[\n",
    "        Text(id=\"song\", description=\"User wants to play this song\", examples=[]),\n",
    "        Text(id=\"album\", description=\"User wants to play this album\", examples=[]),\n",
    "        Text(\n",
    "            id=\"artist\",\n",
    "            description=\"Music by the given artist\",\n",
    "            examples=[(\"Songs by paul simon\", \"paul simon\")],\n",
    "        ),\n",
    "        Text(\n",
    "            id=\"stop_playing\",\n",
    "            description=\"STOP if the user wants to stop playing music.\",\n",
    "            examples=[(\"Please stop the music\", \"stop\"), (\"please keep playing\", \"\")],\n",
    "        ),\n",
    "        Text(\n",
    "            id=\"start_playing\",\n",
    "            description=\"START if the user wants to play music.\",\n",
    "            examples=[(\"play something\", \"start\"), (\"please stop\", \"\")],\n",
    "        ),\n",
    "    ],\n",
    ")"
   ]
  },
  {
   "cell_type": "code",
   "execution_count": 87,
   "id": "992fb598-a32d-406c-b2f1-315bf11615e0",
   "metadata": {
    "tags": []
   },
   "outputs": [
    {
     "name": "stdout",
     "output_type": "stream",
     "text": [
      "CPU times: user 11.8 ms, sys: 4.02 ms, total: 15.8 ms\n",
      "Wall time: 1.3 s\n"
     ]
    },
    {
     "data": {
      "text/plain": [
       "{'player': [{'stop_playing': ['stop']}]}"
      ]
     },
     "execution_count": 87,
     "metadata": {},
     "output_type": "execute_result"
    }
   ],
   "source": [
    "%%time\n",
    "model(\"stop the music now\", form)"
   ]
  },
  {
   "cell_type": "code",
   "execution_count": 90,
   "id": "266f2c81-4b93-41df-ad2f-4c0645d2eae0",
   "metadata": {
    "tags": []
   },
   "outputs": [
    {
     "name": "stdout",
     "output_type": "stream",
     "text": [
      "CPU times: user 4.14 ms, sys: 8 µs, total: 4.15 ms\n",
      "Wall time: 1.04 s\n"
     ]
    },
    {
     "data": {
      "text/plain": [
       "{'player': [{'start_playing': ['start']}]}"
      ]
     },
     "execution_count": 90,
     "metadata": {},
     "output_type": "execute_result"
    }
   ],
   "source": [
    "%%time\n",
    "model(\"i want to hear a song\", form)"
   ]
  },
  {
   "cell_type": "code",
   "execution_count": 91,
   "id": "23328a30-bcb9-4c30-a5cb-6e1935781f0b",
   "metadata": {
    "tags": []
   },
   "outputs": [
    {
     "name": "stdout",
     "output_type": "stream",
     "text": [
      "CPU times: user 3.17 ms, sys: 0 ns, total: 3.17 ms\n",
      "Wall time: 985 ms\n"
     ]
    },
    {
     "data": {
      "text/plain": [
       "{'player': [{'album': ['lion king']}]}"
      ]
     },
     "execution_count": 91,
     "metadata": {},
     "output_type": "execute_result"
    }
   ],
   "source": [
    "%%time\n",
    "model(\"can you play the album lion king from the movie\", form)"
   ]
  },
  {
   "cell_type": "code",
   "execution_count": 93,
   "id": "a5580e02-71d7-4f39-be12-6665e0e776f3",
   "metadata": {
    "tags": []
   },
   "outputs": [
    {
     "name": "stdout",
     "output_type": "stream",
     "text": [
      "CPU times: user 3.26 ms, sys: 45 µs, total: 3.3 ms\n",
      "Wall time: 2.56 s\n"
     ]
    },
    {
     "data": {
      "text/plain": [
       "{'player': [{'artist': ['paul simon', 'led zepplin']}]}"
      ]
     },
     "execution_count": 93,
     "metadata": {},
     "output_type": "execute_result"
    }
   ],
   "source": [
    "%%time\n",
    "model(\"can you play all the songs from paul simon and led zepplin\", form)"
   ]
  },
  {
   "cell_type": "markdown",
   "id": "20ddd000-df00-4014-9433-fba85181ba46",
   "metadata": {},
   "source": [
    "## Issue some database queries?\n",
    "\n",
    "Please note that this is a demo about how to build complexity.\n",
    "\n",
    "This particular format is actually *NOT* good for issuing database queries.\n",
    "\n",
    "I may publish another package showing how to do this properly for things like database queries."
   ]
  },
  {
   "cell_type": "code",
   "execution_count": 103,
   "id": "2b0bcf09-a3ae-4a8a-9ce3-f86834ce6ca2",
   "metadata": {
    "tags": []
   },
   "outputs": [],
   "source": [
    "company_name = Text(\n",
    "    id=\"company_name\",\n",
    "    description=\"what is the name of the company you want to find\",\n",
    "    examples=[\n",
    "        (\"Apple inc\", \"Apple inc\"),\n",
    "        (\"largest 10 banks in the world\", \"\"),\n",
    "        (\"microsoft and apple\", \"microsoft,apple\"),\n",
    "    ],\n",
    ")\n",
    "\n",
    "industry_name = Text(\n",
    "    id=\"industry_name\",\n",
    "    description=\"what is the name of the company's industry\",\n",
    "    examples=[\n",
    "        (\"companies in the steel manufacturing industry\", \"steel manufacturing\"),\n",
    "        (\"large banks\", \"banking\"),\n",
    "        (\"military companies\", \"defense\"),\n",
    "        (\"chinese companies\", \"\"),\n",
    "        (\"companies that cell cigars\", \"cigars\"),\n",
    "    ],\n",
    ")\n",
    "\n",
    "geography_name = Text(\n",
    "    id=\"geography_name\",\n",
    "    description=\"where is the company based?\",\n",
    "    examples=[\n",
    "        (\"chinese companies\", \"china\"),\n",
    "        (\"companies based in france\", \"france\"),\n",
    "        (\"LaMaple was based in france, italy\", [\"france\", \"italy\"]),\n",
    "        (\"italy\", \"\"),\n",
    "    ],\n",
    ")\n",
    "\n",
    "foundation_date = Text(\n",
    "    id=\"foundation_date\",\n",
    "    description=\"Foundation date of the company\",\n",
    "    examples=[(\"companies founded in 2023\", \"2023\")],\n",
    ")\n",
    "\n",
    "attribute_filter = Text(\n",
    "    id=\"attribute_filter\",\n",
    "    description=(\n",
    "        \"Filter by a value of an attribute using a binary expression. Specify the\"\n",
    "        \" attribute's name, an operator (>, <, =, !=, >=, <=, in, not in) and a value.\"\n",
    "    ),\n",
    "    examples=[\n",
    "        (\n",
    "            \"Companies with revenue > 100\",\n",
    "            {\n",
    "                \"attribute\": \"revenue\",\n",
    "                \"op\": \">\",\n",
    "                \"value\": \"100\",\n",
    "            },\n",
    "        ),\n",
    "        (\n",
    "            \"number of employees between 50 and 1000\",\n",
    "            {\"attribute\": \"employees\", \"op\": \"in\", \"value\": [\"50\", \"1000\"]},\n",
    "        ),\n",
    "        (\n",
    "            \"blue or green color\",\n",
    "            {\n",
    "                \"attribute\": \"color\",\n",
    "                \"op\": \"in\",\n",
    "                \"value\": [\"blue\", \"green\"],\n",
    "            },\n",
    "        ),\n",
    "        (\n",
    "            \"companies that do not sell in california\",\n",
    "            {\n",
    "                \"attribute\": \"geography-sales\",\n",
    "                \"op\": \"not in\",\n",
    "                \"value\": \"california\",\n",
    "            },\n",
    "        ),\n",
    "    ],\n",
    ")\n",
    "\n",
    "sales_geography = Text(\n",
    "    id=\"geography_sales\",\n",
    "    description=\"where is the company doing sales? Please use a single country name.\",\n",
    "    examples=[\n",
    "        (\"companies with sales in france\", \"france\"),\n",
    "        (\"companies that sell their products in germany\", \"germany\"),\n",
    "        (\"france, italy\", \"\"),\n",
    "    ],\n",
    ")\n",
    "\n",
    "attribute_selection_block = Text(\n",
    "    id=\"attribute_selection\",\n",
    "    description=\"Asking to see the value of one or more attributes\",\n",
    "    examples=[\n",
    "        (\"What is the revenue of tech companies?\", \"revenue\"),\n",
    "        (\"market cap of apple?\", \"market cap\"),\n",
    "        (\"number of employees of largest company\", \"number of employees\"),\n",
    "        (\"what are the revenue and market cap of apple\", [\"revenue\", \"market cap\"]),\n",
    "        (\n",
    "            \"share price and number of shares of indian companies\",\n",
    "            [\"share price\", \"number of shares\"],\n",
    "        ),\n",
    "    ],\n",
    ")\n",
    "\n",
    "sort_by_attribute_block = Object(\n",
    "    id=\"sort_block\",\n",
    "    description=(\n",
    "        \"Use to request to sort the results by a particular attribute. \"\n",
    "        \"Can specify the direction\"\n",
    "    ),\n",
    "    attributes=[\n",
    "        Text(id=\"direction\", description=\"The direction of the sort\"),\n",
    "        Text(id=\"attribute\", description=\"The sort attribute\"),\n",
    "    ],\n",
    "    examples=[\n",
    "        (\n",
    "            \"Largest by market-cap tech companies\",\n",
    "            {\"direction\": \"descending\", \"attribute\": \"market-cap\"},\n",
    "        ),\n",
    "        (\n",
    "            \"sort by companies with smallest revenue \",\n",
    "            {\"direction\": \"ascending\", \"attribute\": \"revenue\"},\n",
    "        ),\n",
    "    ],\n",
    ")\n",
    "\n",
    "form = Object(\n",
    "    id=\"search_for_companies\",\n",
    "    description=\"Search for companies matching the following criteria.\",\n",
    "    attributes=[\n",
    "        company_name,\n",
    "        geography_name,\n",
    "        foundation_date,\n",
    "        industry_name,\n",
    "        sales_geography,\n",
    "        attribute_filter,\n",
    "        attribute_selection_block,\n",
    "        sort_by_attribute_block,\n",
    "    ],\n",
    ")"
   ]
  },
  {
   "cell_type": "markdown",
   "id": "ee6725a8-246b-4163-a657-5f3eddbf5d2b",
   "metadata": {},
   "source": [
    "# Note some of the examplesbelow could fail"
   ]
  },
  {
   "cell_type": "markdown",
   "id": "4f585aa0-071c-40ab-b445-0616be92f430",
   "metadata": {},
   "source": [
    "Please note that some of the queries below could *fail* for different reasons.\n",
    "\n",
    "One common reason with complex objects is ambiguity in how to group things together.\n",
    "\n",
    "These failures can be remedied by adding object level examples."
   ]
  },
  {
   "cell_type": "code",
   "execution_count": 100,
   "id": "6aae8e17-bb1e-4f8d-94e6-4855f2077a26",
   "metadata": {
    "tags": []
   },
   "outputs": [
    {
     "name": "stdout",
     "output_type": "stream",
     "text": [
      "CPU times: user 14.6 ms, sys: 311 µs, total: 14.9 ms\n",
      "Wall time: 1.74 s\n"
     ]
    },
    {
     "data": {
      "text/plain": [
       "({'search_for_companies': [{}]},)"
      ]
     },
     "execution_count": 100,
     "metadata": {},
     "output_type": "execute_result"
    }
   ],
   "source": [
    "%%time\n",
    "model(\n",
    "    (\n",
    "        \"Today Alice MacDonald is turning sixty days old. She had blue eyes. \"\n",
    "        \"Bob is turning 10 years old. His eyes were bright red.\"\n",
    "    ),\n",
    "    form,\n",
    "),"
   ]
  },
  {
   "cell_type": "code",
   "execution_count": 104,
   "id": "214daf5f-0026-4880-a066-06ecaf73b7b8",
   "metadata": {
    "tags": []
   },
   "outputs": [
    {
     "name": "stdout",
     "output_type": "stream",
     "text": [
      "CPU times: user 4.21 ms, sys: 15 µs, total: 4.22 ms\n",
      "Wall time: 5.12 s\n"
     ]
    },
    {
     "data": {
      "text/plain": [
       "{'search_for_companies': [{'attribute_filter': [{'attribute': ['market cap',\n",
       "      'market cap',\n",
       "      'employees'],\n",
       "     'op': ['>', '<', 'in'],\n",
       "     'value': ['1 million', '50', 'red', 'blue']}],\n",
       "   'attribute_selection': ['revenue', 'eps']}]}"
      ]
     },
     "execution_count": 104,
     "metadata": {},
     "output_type": "execute_result"
    }
   ],
   "source": [
    "%%time\n",
    "model(\n",
    "    (\n",
    "        \"revenue, eps of indian companies that have market cap of over 1 million, \"\n",
    "        \"but less than 50 employees and own red and blue buildings\"\n",
    "    ),\n",
    "    form,\n",
    ")"
   ]
  },
  {
   "cell_type": "code",
   "execution_count": 105,
   "id": "d631862c-175e-42bb-83ab-1cfea635a684",
   "metadata": {
    "tags": []
   },
   "outputs": [
    {
     "name": "stdout",
     "output_type": "stream",
     "text": [
      "CPU times: user 54 µs, sys: 3.53 ms, total: 3.58 ms\n",
      "Wall time: 4.29 s\n"
     ]
    },
    {
     "data": {
      "text/plain": [
       "{'search_for_companies': [{'attribute_filter': [{'attribute': ['market cap'],\n",
       "     'op': ['>'],\n",
       "     'value': ['1 million']},\n",
       "    {'attribute': ['employees'], 'op': ['in'], 'value': ['20', '50']}],\n",
       "   'attribute_selection': ['revenue', 'eps']}]}"
      ]
     },
     "execution_count": 105,
     "metadata": {},
     "output_type": "execute_result"
    }
   ],
   "source": [
    "%%time\n",
    "model(\n",
    "    (\n",
    "        \"revenue, eps of indian companies that have market cap of over 1 million, and\"\n",
    "        \" and between 20-50 employees\"\n",
    "    ),\n",
    "    form,\n",
    ")"
   ]
  },
  {
   "cell_type": "code",
   "execution_count": 106,
   "id": "2a620246-4c85-4256-8f58-0acbcc9455a3",
   "metadata": {
    "tags": []
   },
   "outputs": [
    {
     "name": "stdout",
     "output_type": "stream",
     "text": [
      "CPU times: user 3.38 ms, sys: 0 ns, total: 3.38 ms\n",
      "Wall time: 2.28 s\n"
     ]
    },
    {
     "data": {
      "text/plain": [
       "{'search_for_companies': [{'attribute_filter': [{'attribute': ['building-colors'],\n",
       "     'op': ['in'],\n",
       "     'value': ['red', 'blue']}]}]}"
      ]
     },
     "execution_count": 106,
     "metadata": {},
     "output_type": "execute_result"
    }
   ],
   "source": [
    "%%time\n",
    "model(\"companies that own red and blue buildings\", form)"
   ]
  },
  {
   "cell_type": "code",
   "execution_count": 108,
   "id": "4745517e-507e-4d1a-97e0-d143fa34cea2",
   "metadata": {
    "tags": []
   },
   "outputs": [
    {
     "name": "stdout",
     "output_type": "stream",
     "text": [
      "CPU times: user 3.74 ms, sys: 0 ns, total: 3.74 ms\n",
      "Wall time: 2.64 s\n"
     ]
    },
    {
     "data": {
      "text/plain": [
       "{'search_for_companies': [{'geography_name': ['germany'],\n",
       "   'sort_block': [{'attribute': ['number of employees'],\n",
       "     'direction': ['descending']}],\n",
       "   'attribute_selection': ['revenue']}]}"
      ]
     },
     "execution_count": 108,
     "metadata": {},
     "output_type": "execute_result"
    }
   ],
   "source": [
    "%%time\n",
    "model(\"revenue of largest german companies sorted by number of employees\", form)"
   ]
  }
 ],
 "metadata": {
  "kernelspec": {
   "display_name": "Python 3 (ipykernel)",
   "language": "python",
   "name": "python3"
  },
  "language_info": {
   "codemirror_mode": {
    "name": "ipython",
    "version": 3
   },
   "file_extension": ".py",
   "mimetype": "text/x-python",
   "name": "python",
   "nbconvert_exporter": "python",
   "pygments_lexer": "ipython3",
   "version": "3.11.1"
  }
 },
 "nbformat": 4,
 "nbformat_minor": 5
}
