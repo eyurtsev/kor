{
 "cells": [
  {
   "cell_type": "markdown",
   "id": "4b3a0584-b52c-4873-abb8-8382e13ff5c0",
   "metadata": {},
   "source": [
    "# Natural Language Based APIs\n",
    "\n",
    "Kor can extract information from text matching a schema.\n",
    "\n",
    "If we have the schema of an API, then we can power the API using natural language (Open API endpoint, HTML forms etc.)"
   ]
  },
  {
   "cell_type": "code",
   "execution_count": 1,
   "id": "0b4597b2-2a43-4491-8830-bf9f79428074",
   "metadata": {
    "nbsphinx": "hidden",
    "tags": [
     "remove-cell"
    ]
   },
   "outputs": [],
   "source": [
    "%load_ext autoreload\n",
    "%autoreload 2\n",
    "\n",
    "import sys\n",
    "\n",
    "sys.path.insert(0, \"../../\")"
   ]
  },
  {
   "cell_type": "code",
   "execution_count": 2,
   "id": "c719e4fc-3ccf-4633-a787-b2fe0d1eac65",
   "metadata": {
    "tags": []
   },
   "outputs": [],
   "source": [
    "from kor.extraction import Extractor\n",
    "from kor.nodes import Object, Text, Number\n",
    "\n",
    "from langchain.chat_models import ChatOpenAI"
   ]
  },
  {
   "cell_type": "code",
   "execution_count": 3,
   "id": "0a517481-f463-430d-a6dd-7e91506c7dd0",
   "metadata": {
    "tags": []
   },
   "outputs": [],
   "source": [
    "llm = ChatOpenAI(model_name=\"gpt-3.5-turbo\", \n",
    "    temperature = 0,\n",
    "    max_tokens = 2000,\n",
    "    frequency_penalty = 0,\n",
    "    presence_penalty = 0,\n",
    "    top_p = 1.0,\n",
    ")\n",
    "model = Extractor(llm)"
   ]
  },
  {
   "cell_type": "markdown",
   "id": "e0b612d2-6893-4881-ad97-e09425511010",
   "metadata": {},
   "source": [
    "## Music Player"
   ]
  },
  {
   "cell_type": "code",
   "execution_count": 4,
   "id": "932ff7cb-eaa4-4ed5-8c2d-574b94dccbea",
   "metadata": {
    "tags": []
   },
   "outputs": [],
   "source": [
    "form = Object(\n",
    "    id=\"player\",\n",
    "    description=(\n",
    "        \"User is controling a music player to select songs, pause or start them or play\"\n",
    "        \" music by a particular artist.\"\n",
    "    ),\n",
    "    attributes=[\n",
    "        Text(id=\"song\", description=\"User wants to play this song\", examples=[]),\n",
    "        Text(id=\"album\", description=\"User wants to play this album\", examples=[]),\n",
    "        Text(\n",
    "            id=\"artist\",\n",
    "            description=\"Music by the given artist\",\n",
    "            examples=[(\"Songs by paul simon\", \"paul simon\")],\n",
    "        ),\n",
    "        Text(\n",
    "            id=\"action\",\n",
    "            description=\"Action to take one of: `play`, `stop`, `next`, `previous`.\",\n",
    "            examples=[\n",
    "                (\"Please stop the music\", \"stop\"),\n",
    "                (\"play something\", \"play\"),\n",
    "                (\"next song\", \"next\"),\n",
    "            ],\n",
    "        ),\n",
    "    ],\n",
    ")"
   ]
  },
  {
   "cell_type": "code",
   "execution_count": 5,
   "id": "760baa5f-9368-4b5a-abc0-6ac65c34b7a7",
   "metadata": {
    "tags": []
   },
   "outputs": [
    {
     "name": "stdout",
     "output_type": "stream",
     "text": [
      "CPU times: user 18.5 ms, sys: 0 ns, total: 18.5 ms\n",
      "Wall time: 1.38 s\n"
     ]
    },
    {
     "data": {
      "text/plain": [
       "{'player': [{'action': ['stop']}]}"
      ]
     },
     "execution_count": 5,
     "metadata": {},
     "output_type": "execute_result"
    }
   ],
   "source": [
    "%%time\n",
    "model(\"stop the music now\", form)"
   ]
  },
  {
   "cell_type": "code",
   "execution_count": 6,
   "id": "462303c0-e83a-4e39-86cd-cab6875b40ef",
   "metadata": {
    "tags": []
   },
   "outputs": [
    {
     "name": "stdout",
     "output_type": "stream",
     "text": [
      "CPU times: user 4.21 ms, sys: 153 µs, total: 4.36 ms\n",
      "Wall time: 3.64 s\n"
     ]
    },
    {
     "data": {
      "text/plain": [
       "{'player': [{'action': ['play']}]}"
      ]
     },
     "execution_count": 6,
     "metadata": {},
     "output_type": "execute_result"
    }
   ],
   "source": [
    "%%time\n",
    "model(\"i want to hear a song\", form)"
   ]
  },
  {
   "cell_type": "code",
   "execution_count": 7,
   "id": "02c7f1e5-1c8d-4e9f-82e6-c37a41d6de14",
   "metadata": {
    "tags": []
   },
   "outputs": [
    {
     "name": "stdout",
     "output_type": "stream",
     "text": [
      "CPU times: user 4.51 ms, sys: 0 ns, total: 4.51 ms\n",
      "Wall time: 2.05 s\n"
     ]
    },
    {
     "data": {
      "text/plain": [
       "{'player': [{'album': ['lion king']}]}"
      ]
     },
     "execution_count": 7,
     "metadata": {},
     "output_type": "execute_result"
    }
   ],
   "source": [
    "%%time\n",
    "model(\"can you play the album lion king from the movie\", form)"
   ]
  },
  {
   "cell_type": "code",
   "execution_count": 8,
   "id": "7a6d918c-53fe-426b-b37e-eec2abb8a704",
   "metadata": {
    "tags": []
   },
   "outputs": [
    {
     "name": "stdout",
     "output_type": "stream",
     "text": [
      "CPU times: user 4.14 ms, sys: 113 µs, total: 4.25 ms\n",
      "Wall time: 1.87 s\n"
     ]
    },
    {
     "data": {
      "text/plain": [
       "{'player': [{'artist': ['paul simon', 'led zepplin']}]}"
      ]
     },
     "execution_count": 8,
     "metadata": {},
     "output_type": "execute_result"
    }
   ],
   "source": [
    "%%time\n",
    "model(\"can you play all the songs from paul simon and led zepplin\", form)"
   ]
  },
  {
   "cell_type": "code",
   "execution_count": 9,
   "id": "b18acf0a-d99e-48de-ace5-fb01bded5a41",
   "metadata": {
    "tags": []
   },
   "outputs": [
    {
     "name": "stdout",
     "output_type": "stream",
     "text": [
      "CPU times: user 2.56 ms, sys: 1.91 ms, total: 4.47 ms\n",
      "Wall time: 1 s\n"
     ]
    },
    {
     "data": {
      "text/plain": [
       "{'player': [{'action': ['previous']}]}"
      ]
     },
     "execution_count": 9,
     "metadata": {},
     "output_type": "execute_result"
    }
   ],
   "source": [
    "%%time\n",
    "model(\"the previous song\", form)"
   ]
  },
  {
   "cell_type": "markdown",
   "id": "4a90e50e-aa1b-45c6-920b-4589b424e561",
   "metadata": {},
   "source": [
    "## Ticket ordering\n",
    "\n",
    "Let's hook into an imaginary search API for ordering tickets."
   ]
  },
  {
   "cell_type": "code",
   "execution_count": 10,
   "id": "c50b080b-7179-4bbe-b234-83ce59e2d215",
   "metadata": {
    "tags": []
   },
   "outputs": [],
   "source": [
    "form = Object(\n",
    "    id=\"action\",\n",
    "    description=\"User is looking for sports tickets\",\n",
    "    attributes=[\n",
    "        Text(\n",
    "            id=\"sport\",\n",
    "            description=\"which sports do you want to buy tickets for?\",\n",
    "            examples=[\n",
    "                (\n",
    "                    \"I want to buy tickets to basketball and football games\",\n",
    "                    [\"basketball\", \"footbal\"],\n",
    "                )\n",
    "            ],\n",
    "        ),\n",
    "        Text(\n",
    "            id=\"location\",\n",
    "            description=\"where would you like to watch the game?\",\n",
    "            examples=[\n",
    "                (\"in boston\", \"boston\"),\n",
    "                (\"in france or italy\", [\"france\", \"italy\"]),\n",
    "            ],\n",
    "        ),\n",
    "        Object(\n",
    "            id=\"price_range\",\n",
    "            description=\"how much do you want to spend?\",\n",
    "            attributes=[],\n",
    "            examples=[\n",
    "                (\"no more than $100\", {\"price_max\": \"100\", \"currency\": \"$\"}),\n",
    "                (\n",
    "                    \"between 50 and 100 dollars\",\n",
    "                    {\"price_max\": \"100\", \"price_min\": \"50\", \"currency\": \"$\"},\n",
    "                ),\n",
    "            ],\n",
    "        ),\n",
    "    ],\n",
    ")"
   ]
  },
  {
   "cell_type": "code",
   "execution_count": 11,
   "id": "73c31ace-32dd-4a33-ae39-475db6934f6d",
   "metadata": {
    "tags": []
   },
   "outputs": [
    {
     "name": "stdout",
     "output_type": "stream",
     "text": [
      "CPU times: user 4.34 ms, sys: 0 ns, total: 4.34 ms\n",
      "Wall time: 4.31 s\n"
     ]
    },
    {
     "data": {
      "text/plain": [
       "{'action': [{'sport': ['baseball'],\n",
       "   'location': ['LA'],\n",
       "   'price_range': [{'currency': ['$'], 'price_max': ['100']}]}]}"
      ]
     },
     "execution_count": 11,
     "metadata": {},
     "output_type": "execute_result"
    }
   ],
   "source": [
    "%%time\n",
    "model(\"I want to buy tickets for a baseball game in LA area under $100\", form)"
   ]
  },
  {
   "cell_type": "code",
   "execution_count": 12,
   "id": "78e3b3af-bfa8-4503-854a-b83a7f8f49e6",
   "metadata": {
    "tags": []
   },
   "outputs": [
    {
     "name": "stdout",
     "output_type": "stream",
     "text": [
      "CPU times: user 4.21 ms, sys: 156 µs, total: 4.37 ms\n",
      "Wall time: 2.77 s\n"
     ]
    },
    {
     "data": {
      "text/plain": [
       "{'action': [{'sport': ['basketball'],\n",
       "   'location': ['boston'],\n",
       "   'price_range': [{'currency': ['$'],\n",
       "     'price_max': ['40'],\n",
       "     'price_min': ['20']}]}]}"
      ]
     },
     "execution_count": 12,
     "metadata": {},
     "output_type": "execute_result"
    }
   ],
   "source": [
    "%%time\n",
    "model(\n",
    "    (\n",
    "        \"I want to see a celtics game in boston somewhere between 20 and 40 dollars per\"\n",
    "        \" ticket\"\n",
    "    ),\n",
    "    form,\n",
    ")"
   ]
  },
  {
   "cell_type": "markdown",
   "id": "20ddd000-df00-4014-9433-fba85181ba46",
   "metadata": {},
   "source": [
    "## Company Search\n",
    "\n",
    "**ATTENTION** This is a demo that shows how to build complexity. This particular package is actually *NOT* good for dealing with complex database queries (e.g., nesting filters), yet it can still get one pretty far. \n",
    "\n",
    "There's a better way run these kinds of queries and I may add it in the future to this package."
   ]
  },
  {
   "cell_type": "code",
   "execution_count": 13,
   "id": "2b0bcf09-a3ae-4a8a-9ce3-f86834ce6ca2",
   "metadata": {
    "tags": []
   },
   "outputs": [],
   "source": [
    "company_name = Text(\n",
    "    id=\"company_name\",\n",
    "    description=\"what is the name of the company you want to find\",\n",
    "    examples=[\n",
    "        (\"Apple inc\", \"Apple inc\"),\n",
    "        (\"largest 10 banks in the world\", \"\"),\n",
    "        (\"microsoft and apple\", \"microsoft,apple\"),\n",
    "    ],\n",
    ")\n",
    "\n",
    "industry_name = Text(\n",
    "    id=\"industry_name\",\n",
    "    description=\"what is the name of the company's industry\",\n",
    "    examples=[\n",
    "        (\"companies in the steel manufacturing industry\", \"steel manufacturing\"),\n",
    "        (\"large banks\", \"banking\"),\n",
    "        (\"military companies\", \"defense\"),\n",
    "        (\"chinese companies\", \"\"),\n",
    "        (\"companies that cell cigars\", \"cigars\"),\n",
    "    ],\n",
    ")\n",
    "\n",
    "geography_name = Text(\n",
    "    id=\"geography_name\",\n",
    "    description=\"where is the company based?\",\n",
    "    examples=[\n",
    "        (\"chinese companies\", \"china\"),\n",
    "        (\"companies based in france\", \"france\"),\n",
    "        (\"LaMaple was based in france, italy\", [\"france\", \"italy\"]),\n",
    "        (\"italy\", \"\"),\n",
    "    ],\n",
    ")\n",
    "\n",
    "foundation_date = Text(\n",
    "    id=\"foundation_date\",\n",
    "    description=\"Foundation date of the company\",\n",
    "    examples=[(\"companies founded in 2023\", \"2023\")],\n",
    ")\n",
    "\n",
    "attribute_filter = Text(\n",
    "    id=\"attribute_filter\",\n",
    "    description=(\n",
    "        \"Filter by a value of an attribute using a binary expression. Specify the\"\n",
    "        \" attribute's name, an operator (>, <, =, !=, >=, <=, in, not in) and a value.\"\n",
    "    ),\n",
    "    examples=[\n",
    "        (\n",
    "            \"Companies with revenue > 100\",\n",
    "            {\n",
    "                \"attribute\": \"revenue\",\n",
    "                \"op\": \">\",\n",
    "                \"value\": \"100\",\n",
    "            },\n",
    "        ),\n",
    "        (\n",
    "            \"number of employees between 50 and 1000\",\n",
    "            {\"attribute\": \"employees\", \"op\": \"in\", \"value\": [\"50\", \"1000\"]},\n",
    "        ),\n",
    "        (\n",
    "            \"blue or green color\",\n",
    "            {\n",
    "                \"attribute\": \"color\",\n",
    "                \"op\": \"in\",\n",
    "                \"value\": [\"blue\", \"green\"],\n",
    "            },\n",
    "        ),\n",
    "        (\n",
    "            \"companies that do not sell in california\",\n",
    "            {\n",
    "                \"attribute\": \"geography-sales\",\n",
    "                \"op\": \"not in\",\n",
    "                \"value\": \"california\",\n",
    "            },\n",
    "        ),\n",
    "    ],\n",
    ")\n",
    "\n",
    "sales_geography = Text(\n",
    "    id=\"geography_sales\",\n",
    "    description=\"where is the company doing sales? Please use a single country name.\",\n",
    "    examples=[\n",
    "        (\"companies with sales in france\", \"france\"),\n",
    "        (\"companies that sell their products in germany\", \"germany\"),\n",
    "        (\"france, italy\", \"\"),\n",
    "    ],\n",
    ")\n",
    "\n",
    "attribute_selection_block = Text(\n",
    "    id=\"attribute_selection\",\n",
    "    description=\"Asking to see the value of one or more attributes\",\n",
    "    examples=[\n",
    "        (\"What is the revenue of tech companies?\", \"revenue\"),\n",
    "        (\"market cap of apple?\", \"market cap\"),\n",
    "        (\"number of employees of largest company\", \"number of employees\"),\n",
    "        (\"what are the revenue and market cap of apple\", [\"revenue\", \"market cap\"]),\n",
    "        (\n",
    "            \"share price and number of shares of indian companies\",\n",
    "            [\"share price\", \"number of shares\"],\n",
    "        ),\n",
    "    ],\n",
    ")\n",
    "\n",
    "sort_by_attribute_block = Object(\n",
    "    id=\"sort_block\",\n",
    "    description=(\n",
    "        \"Use to request to sort the results by a particular attribute. \"\n",
    "        \"Can specify the direction\"\n",
    "    ),\n",
    "    attributes=[\n",
    "        Text(id=\"direction\", description=\"The direction of the sort\"),\n",
    "        Text(id=\"attribute\", description=\"The sort attribute\"),\n",
    "    ],\n",
    "    examples=[\n",
    "        (\n",
    "            \"Largest by market-cap tech companies\",\n",
    "            {\"direction\": \"descending\", \"attribute\": \"market-cap\"},\n",
    "        ),\n",
    "        (\n",
    "            \"sort by companies with smallest revenue \",\n",
    "            {\"direction\": \"ascending\", \"attribute\": \"revenue\"},\n",
    "        ),\n",
    "    ],\n",
    ")\n",
    "\n",
    "form = Object(\n",
    "    id=\"search_for_companies\",\n",
    "    description=\"Search for companies matching the following criteria.\",\n",
    "    attributes=[\n",
    "        company_name,\n",
    "        geography_name,\n",
    "        foundation_date,\n",
    "        industry_name,\n",
    "        sales_geography,\n",
    "        attribute_filter,\n",
    "        attribute_selection_block,\n",
    "        sort_by_attribute_block,\n",
    "    ],\n",
    ")"
   ]
  },
  {
   "cell_type": "markdown",
   "id": "ee6725a8-246b-4163-a657-5f3eddbf5d2b",
   "metadata": {},
   "source": [
    "**ATTENTION** Some of the queries below fail. One common reason is that more examples could be useful to show the model how to group objects together. Pay attention to failures!"
   ]
  },
  {
   "cell_type": "markdown",
   "id": "fa75a5a9-e1e8-4b4b-af93-7ceeab481578",
   "metadata": {},
   "source": [
    "Confirm that we're not getting false positives"
   ]
  },
  {
   "cell_type": "code",
   "execution_count": 14,
   "id": "6aae8e17-bb1e-4f8d-94e6-4855f2077a26",
   "metadata": {
    "tags": []
   },
   "outputs": [
    {
     "name": "stdout",
     "output_type": "stream",
     "text": [
      "CPU times: user 577 µs, sys: 4.41 ms, total: 4.99 ms\n",
      "Wall time: 982 ms\n"
     ]
    },
    {
     "data": {
      "text/plain": [
       "({'search_for_companies': [{}]},)"
      ]
     },
     "execution_count": 14,
     "metadata": {},
     "output_type": "execute_result"
    }
   ],
   "source": [
    "%%time\n",
    "model(\n",
    "    (\n",
    "        \"Today Alice MacDonald is turning sixty days old. She had blue eyes. \"\n",
    "        \"Bob is turning 10 years old. His eyes were bright red.\"\n",
    "    ),\n",
    "    form,\n",
    "),"
   ]
  },
  {
   "cell_type": "code",
   "execution_count": 15,
   "id": "d631862c-175e-42bb-83ab-1cfea635a684",
   "metadata": {
    "tags": []
   },
   "outputs": [
    {
     "name": "stdout",
     "output_type": "stream",
     "text": [
      "CPU times: user 4.07 ms, sys: 334 µs, total: 4.4 ms\n",
      "Wall time: 8.28 s\n"
     ]
    },
    {
     "data": {
      "text/plain": [
       "{'search_for_companies': [{'attribute_filter': [{'attribute': ['market cap'],\n",
       "     'op': ['>'],\n",
       "     'value': ['1 million']},\n",
       "    {'attribute': ['employees'], 'op': ['in'], 'value': ['20', '50']}],\n",
       "   'attribute_selection': ['revenue', 'eps']}]}"
      ]
     },
     "execution_count": 15,
     "metadata": {},
     "output_type": "execute_result"
    }
   ],
   "source": [
    "%%time\n",
    "model(\n",
    "    (\n",
    "        \"revenue, eps of indian companies that have market cap of over 1 million, and\"\n",
    "        \" and between 20-50 employees\"\n",
    "    ),\n",
    "    form,\n",
    ")"
   ]
  },
  {
   "cell_type": "code",
   "execution_count": 16,
   "id": "2a620246-4c85-4256-8f58-0acbcc9455a3",
   "metadata": {
    "tags": []
   },
   "outputs": [
    {
     "name": "stdout",
     "output_type": "stream",
     "text": [
      "CPU times: user 4.34 ms, sys: 0 ns, total: 4.34 ms\n",
      "Wall time: 2.83 s\n"
     ]
    },
    {
     "data": {
      "text/plain": [
       "{'search_for_companies': [{'attribute_filter': [{'attribute': ['building-colors'],\n",
       "     'op': ['in'],\n",
       "     'value': ['red', 'blue']}]}]}"
      ]
     },
     "execution_count": 16,
     "metadata": {},
     "output_type": "execute_result"
    }
   ],
   "source": [
    "%%time\n",
    "model(\"companies that own red and blue buildings\", form)"
   ]
  },
  {
   "cell_type": "code",
   "execution_count": 17,
   "id": "4745517e-507e-4d1a-97e0-d143fa34cea2",
   "metadata": {
    "tags": []
   },
   "outputs": [
    {
     "name": "stdout",
     "output_type": "stream",
     "text": [
      "CPU times: user 2.46 ms, sys: 1.68 ms, total: 4.14 ms\n",
      "Wall time: 3.16 s\n"
     ]
    },
    {
     "data": {
      "text/plain": [
       "{'search_for_companies': [{'geography_name': ['germany'],\n",
       "   'sort_block': [{'attribute': ['number of employees'],\n",
       "     'direction': ['descending']}],\n",
       "   'attribute_selection': ['revenue']}]}"
      ]
     },
     "execution_count": 17,
     "metadata": {},
     "output_type": "execute_result"
    }
   ],
   "source": [
    "%%time\n",
    "model(\"revenue of largest german companies sorted by number of employees\", form)"
   ]
  },
  {
   "cell_type": "code",
   "execution_count": 18,
   "id": "b206407f-57e0-4212-8e75-970cb49b52e5",
   "metadata": {
    "tags": []
   },
   "outputs": [
    {
     "name": "stdout",
     "output_type": "stream",
     "text": [
      "CPU times: user 3.5 ms, sys: 932 µs, total: 4.44 ms\n",
      "Wall time: 8.38 s\n"
     ]
    },
    {
     "data": {
      "text/plain": [
       "{'search_for_companies': [{'attribute_filter': [{'attribute': ['market cap',\n",
       "      'employees',\n",
       "      'color'],\n",
       "     'op': ['>', '<', 'in'],\n",
       "     'value': ['1 million', '50', 'red', 'blue']}],\n",
       "   'attribute_selection': ['revenue', 'eps']}]}"
      ]
     },
     "execution_count": 18,
     "metadata": {},
     "output_type": "execute_result"
    }
   ],
   "source": [
    "%%time\n",
    "model(\n",
    "    (\n",
    "        \"revenue, eps of indian companies that have market cap of over 1 million, \"\n",
    "        \"but less than 50 employees and own red and blue buildings\"\n",
    "    ),\n",
    "    form,\n",
    ")"
   ]
  },
  {
   "cell_type": "markdown",
   "id": "45b09dd7-606f-40de-9260-90c51d7bf99c",
   "metadata": {
    "tags": []
   },
   "source": [
    "**ATTENTION** The example ^^ above ^^ fails to group things correctly, so add more group level examples to help with disambiguation!!"
   ]
  }
 ],
 "metadata": {
  "kernelspec": {
   "display_name": "Python 3 (ipykernel)",
   "language": "python",
   "name": "python3"
  },
  "language_info": {
   "codemirror_mode": {
    "name": "ipython",
    "version": 3
   },
   "file_extension": ".py",
   "mimetype": "text/x-python",
   "name": "python",
   "nbconvert_exporter": "python",
   "pygments_lexer": "ipython3",
   "version": "3.11.1"
  }
 },
 "nbformat": 4,
 "nbformat_minor": 5
}
