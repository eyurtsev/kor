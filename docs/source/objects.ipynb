{
 "cells": [
  {
   "cell_type": "markdown",
   "id": "4b3a0584-b52c-4873-abb8-8382e13ff5c0",
   "metadata": {},
   "source": [
    "# Extracting Objects\n",
    "\n",
    "Kor attempts to make it easy to extract objects from text.\n",
    "\n",
    "Let's see how to do this!"
   ]
  },
  {
   "cell_type": "code",
   "execution_count": 1,
   "id": "0b4597b2-2a43-4491-8830-bf9f79428074",
   "metadata": {
    "nbsphinx": "hidden",
    "tags": [
     "remove-cell"
    ]
   },
   "outputs": [],
   "source": [
    "%load_ext autoreload\n",
    "%autoreload 2\n",
    "\n",
    "import sys\n",
    "\n",
    "sys.path.insert(0, \"../../\")"
   ]
  },
  {
   "cell_type": "code",
   "execution_count": 1,
   "id": "718c66a7-6186-4ed8-87e9-5ed28e3f209e",
   "metadata": {
    "tags": []
   },
   "outputs": [],
   "source": [
    "from kor.extraction import Extractor\n",
    "from kor.nodes import Object, Text, Number\n",
    "from langchain.chat_models import ChatOpenAI"
   ]
  },
  {
   "cell_type": "code",
   "execution_count": 2,
   "id": "9bc98f35-ea5f-4b74-a32e-a300a22c0c89",
   "metadata": {
    "tags": []
   },
   "outputs": [],
   "source": [
    "llm = ChatOpenAI(model_name=\"gpt-3.5-turbo\", \n",
    "    temperature = 0,\n",
    "    max_tokens = 2000,\n",
    "    frequency_penalty = 0,\n",
    "    presence_penalty = 0,\n",
    "    top_p = 1.0,\n",
    ")\n",
    "model = Extractor(llm)"
   ]
  },
  {
   "cell_type": "markdown",
   "id": "5d3beab3-6dea-4301-8c59-ae1685830afa",
   "metadata": {},
   "source": [
    "## Object Schema\n",
    "\n",
    "In addition to the `Text` input, Kor also has an `Object` type which allows one to specify how to extract an object from text."
   ]
  },
  {
   "cell_type": "code",
   "execution_count": 3,
   "id": "3bb910e9-43c4-42dd-83dd-546b7df6e805",
   "metadata": {
    "tags": []
   },
   "outputs": [],
   "source": [
    "schema = Object(\n",
    "    id=\"personal_info\",\n",
    "    description=\"Personal information about a given person.\",\n",
    "    attributes=[\n",
    "        Text(\n",
    "            id=\"first_name\",\n",
    "            description=\"The first name of the person\",\n",
    "            examples=[(\"John Smith went to the store\", \"John\")],\n",
    "        ),\n",
    "        Text(\n",
    "            id=\"last_name\",\n",
    "            description=\"The last name of the person\",\n",
    "            examples=[(\"John Smith went to the store\", \"Smith\")],\n",
    "        ),\n",
    "        Number(\n",
    "            id=\"age\",\n",
    "            description=\"The age of the person in years.\",\n",
    "            examples=[(\"23 years old\", \"23\"), (\"I turned three on sunday\", \"3\")],\n",
    "        ),\n",
    "    ],\n",
    ")"
   ]
  },
  {
   "cell_type": "code",
   "execution_count": 4,
   "id": "2d2fd3bb-18ee-4f55-9fe5-0beeb8990899",
   "metadata": {
    "tags": []
   },
   "outputs": [
    {
     "name": "stdout",
     "output_type": "stream",
     "text": [
      "Your goal is to extract structured information from the user's input that matches the form described below. When extracting information please make sure it matches the type information exactly. Do not add any attributes that do not appear in the schema shown below.\n",
      "\n",
      "```TypeScript\n",
      "\n",
      "personal_info: { // Personal information about a given person.\n",
      " first_name: string[] // The first name of the person\n",
      " last_name: string[] // The last name of the person\n",
      " age: number[] // The age of the person in years.\n",
      "}\n",
      "```\n",
      "\n",
      "\n",
      "For Union types the output must EXACTLY match one of the members of the Union type.\n",
      "\n",
      "Please enclose the extracted information in HTML style tags with the tag name corresponding to the corresponding component ID. Use angle style brackets for the tags ('>' and '<'). Only output tags when you're confident about the information that was extracted from the user's query. If you can extract several pieces of relevant information from the query, then include all of them. If the type is an array, please repeat the corresponding tag name multiple times once for each relevant extraction. Do NOT output anything except for the extracted information. Only output information inside the HTML style tags. Do not include any notes or any clarifications. \n",
      "\n",
      "Input: John Smith went to the store\n",
      "Output: <personal_info><first_name>John</first_name></personal_info>\n",
      "Input: John Smith went to the store\n",
      "Output: <personal_info><last_name>Smith</last_name></personal_info>\n",
      "Input: 23 years old\n",
      "Output: <personal_info><age>23</age></personal_info>\n",
      "Input: I turned three on sunday\n",
      "Output: <personal_info><age>3</age></personal_info>\n",
      "Input: user input goes here\n",
      "Output:\n"
     ]
    }
   ],
   "source": [
    "print(model.prompt_generator.format_as_string(\"user input goes here\", schema))"
   ]
  },
  {
   "cell_type": "markdown",
   "id": "d4899820-fc53-40aa-b38e-a4e8f7aa8a92",
   "metadata": {},
   "source": [
    "Please note above that examples were specified on a per attribute level.\n",
    "\n",
    "When this works it allows one to more easily compose attributes; however, to improve\n",
    "performance generally examples will need to be provided at the object level (as we'll do below), as it\n",
    "helps the model determine how to associate attributes together."
   ]
  },
  {
   "cell_type": "code",
   "execution_count": 5,
   "id": "40d549b0-f676-4fa2-8d50-9e20f3f2d05f",
   "metadata": {
    "tags": []
   },
   "outputs": [
    {
     "data": {
      "text/plain": [
       "{'personal_info': [{'first_name': ['Eugene'], 'age': ['18']}]}"
      ]
     },
     "execution_count": 5,
     "metadata": {},
     "output_type": "execute_result"
    }
   ],
   "source": [
    "model(\"Eugene was 18 years old a long time ago.\", schema)"
   ]
  },
  {
   "cell_type": "markdown",
   "id": "d3a8a3c6-b7cf-40f1-b287-ae78141e6502",
   "metadata": {},
   "source": [
    "And nothing should be extracted from the text below."
   ]
  },
  {
   "cell_type": "code",
   "execution_count": 6,
   "id": "8be30aa6-a095-4506-8ec9-bde84dd107d3",
   "metadata": {
    "tags": []
   },
   "outputs": [
    {
     "data": {
      "text/plain": [
       "{}"
      ]
     },
     "execution_count": 6,
     "metadata": {},
     "output_type": "execute_result"
    }
   ],
   "source": [
    "model(\n",
    "    (\n",
    "        \"My phone number is (123)-444-9999. I found my true love one on a blue sunday.\"\n",
    "        \" Her number was (333)1232832\"\n",
    "    ),\n",
    "    schema,\n",
    ")"
   ]
  },
  {
   "cell_type": "markdown",
   "id": "0c2ee348-4908-4deb-859c-e860309a77f9",
   "metadata": {},
   "source": [
    "### Hallucinations\n",
    "\n",
    "Without sufficient examples, the model may incorrectly interpret the task.\n",
    "\n",
    "In the example below the model is extracting phone number attribute, even though we're not trying to extract it."
   ]
  },
  {
   "cell_type": "code",
   "execution_count": 7,
   "id": "611ed04e-e8be-4941-9745-d62000eb56bd",
   "metadata": {
    "tags": []
   },
   "outputs": [
    {
     "data": {
      "text/plain": [
       "{'personal_info': [{'first_name': ['Bob']},\n",
       "  {'phone_number': ['(123)-444-9999']},\n",
       "  {'phone_number': ['(333)1232832']}]}"
      ]
     },
     "execution_count": 7,
     "metadata": {},
     "output_type": "execute_result"
    }
   ],
   "source": [
    "model(\n",
    "    (\n",
    "        \"My name is Bob and my phone number is (123)-444-9999. I found my true love one\"\n",
    "        \" on a blue sunday. Her number was (333)1232832\"\n",
    "    ),\n",
    "    schema,\n",
    ")"
   ]
  },
  {
   "cell_type": "markdown",
   "id": "ea520ab9-38ae-4fc2-ab95-468df85f200e",
   "metadata": {},
   "source": [
    "### Improving with Examples\n",
    "\n",
    "Adding more examples, especially at the object level can help improve performance."
   ]
  },
  {
   "cell_type": "code",
   "execution_count": 8,
   "id": "9a300e76-2f26-4914-b160-1d90548714a0",
   "metadata": {
    "tags": []
   },
   "outputs": [],
   "source": [
    "schema = Object(\n",
    "    id=\"personal_info\",\n",
    "    description=\"Personal information about a given person.\",\n",
    "    attributes=[\n",
    "        Text(\n",
    "            id=\"first_name\",\n",
    "            description=\"The first name of the person\",\n",
    "            # examples=[(\"John Smith went to the store\", \"John\")],\n",
    "        ),\n",
    "        Text(\n",
    "            id=\"last_name\",\n",
    "            description=\"The last name of the person\",\n",
    "            # examples=[(\"John Smith went to the store\", \"Smith\")],\n",
    "        ),\n",
    "        Number(\n",
    "            id=\"age\",\n",
    "            description=\"The age of the person in years.\",\n",
    "            # examples=[(\"23 years old\", \"23\"), (\"I turned three on sunday\", \"3\")],\n",
    "        ),\n",
    "    ],\n",
    "    examples=[\n",
    "        (\n",
    "            \"John Smith was 23 years old\",\n",
    "            {\"first_name\": \"John\", \"last_name\": \"Smith\", \"age\": \"23\"},\n",
    "        )\n",
    "    ],\n",
    ")"
   ]
  },
  {
   "cell_type": "code",
   "execution_count": 9,
   "id": "582b5624-332b-412e-ae22-9298d8563ea5",
   "metadata": {
    "tags": []
   },
   "outputs": [
    {
     "data": {
      "text/plain": [
       "{'personal_info': [{'first_name': ['Bob']}]}"
      ]
     },
     "execution_count": 9,
     "metadata": {},
     "output_type": "execute_result"
    }
   ],
   "source": [
    "model(\n",
    "    (\n",
    "        \"My name is Bob and my phone number is (123)-444-9999. I found my true love one\"\n",
    "        \" on a blue sunday. Her number was (333)1232832\"\n",
    "    ),\n",
    "    schema,\n",
    ")"
   ]
  },
  {
   "cell_type": "markdown",
   "id": "8d5e4bcc-1fe5-4bdd-b1e2-00e0c7577cbb",
   "metadata": {},
   "source": [
    "### What's the actual prompt?"
   ]
  },
  {
   "cell_type": "code",
   "execution_count": 10,
   "id": "a2944e8c-4630-4b29-b505-b2ca6fceba01",
   "metadata": {
    "tags": []
   },
   "outputs": [
    {
     "name": "stdout",
     "output_type": "stream",
     "text": [
      "Your goal is to extract structured information from the user's input that matches the form described below. When extracting information please make sure it matches the type information exactly. Do not add any attributes that do not appear in the schema shown below.\n",
      "\n",
      "```TypeScript\n",
      "\n",
      "personal_info: { // Personal information about a given person.\n",
      " first_name: string[] // The first name of the person\n",
      " last_name: string[] // The last name of the person\n",
      " age: number[] // The age of the person in years.\n",
      "}\n",
      "```\n",
      "\n",
      "\n",
      "For Union types the output must EXACTLY match one of the members of the Union type.\n",
      "\n",
      "Please enclose the extracted information in HTML style tags with the tag name corresponding to the corresponding component ID. Use angle style brackets for the tags ('>' and '<'). Only output tags when you're confident about the information that was extracted from the user's query. If you can extract several pieces of relevant information from the query, then include all of them. If the type is an array, please repeat the corresponding tag name multiple times once for each relevant extraction. Do NOT output anything except for the extracted information. Only output information inside the HTML style tags. Do not include any notes or any clarifications. \n",
      "\n",
      "Input: John Smith was 23 years old\n",
      "Output: <personal_info><age>23</age><first_name>John</first_name><last_name>Smith</last_name></personal_info>\n",
      "Input: user input goes here\n",
      "Output:\n"
     ]
    }
   ],
   "source": [
    "print(model.prompt_generator.format_as_string(\"user input goes here\", schema))"
   ]
  },
  {
   "cell_type": "markdown",
   "id": "b5797171-a806-474d-93b8-d569d0355a30",
   "metadata": {},
   "source": [
    "### Extractions are Grouped 😺 \n",
    "\n",
    "Let's try the schema above with a longer piece of text.\n",
    "\n",
    "The extraction won't be perfect and some errors are made;\n",
    "for example, Alice's age is in days not years. \n",
    "We're missing information about `Chris`.\n",
    "\n",
    "But object level attributes are properly grouped togehter!"
   ]
  },
  {
   "cell_type": "code",
   "execution_count": 11,
   "id": "b7f1dece-3a0f-4507-8e8f-4c18cbc4b5fd",
   "metadata": {
    "tags": []
   },
   "outputs": [],
   "source": [
    "user_input = (\n",
    "    \"Today Alice MacDonald is turning sixty days old. She had blue eyes. \"\n",
    "    \"Bob is turning 10 years old. His eyes were bright red. Chris Prass used his \"\n",
    "    \"green eyes to look at Dorothy to find 15 year old eyes staring back at him. \"\n",
    "    \"Prass was a piano teacher. Dorothy was a certified mechanic. \"\n",
    "    \"All certified mechanics have yellow eyes.\"\n",
    ")"
   ]
  },
  {
   "cell_type": "code",
   "execution_count": 12,
   "id": "0d4a342f-cca5-49a7-ab44-2411cc47c0be",
   "metadata": {
    "tags": []
   },
   "outputs": [
    {
     "data": {
      "text/plain": [
       "{'personal_info': [{'age': ['60'],\n",
       "   'first_name': ['Alice'],\n",
       "   'last_name': ['MacDonald']},\n",
       "  {'age': ['10'], 'first_name': ['Bob'], 'last_name': [{}]},\n",
       "  {'age': ['15'], 'first_name': ['Dorothy'], 'last_name': [{}]}]}"
      ]
     },
     "execution_count": 12,
     "metadata": {},
     "output_type": "execute_result"
    }
   ],
   "source": [
    "model(user_input, schema)"
   ]
  },
  {
   "cell_type": "markdown",
   "id": "f2464529-fa6f-49f9-8773-2661675b1feb",
   "metadata": {},
   "source": [
    "## Nested Objects 😹\n",
    "\n",
    "Let's try a more complex schema. And now break the age into 2 attributes; a number and a unit."
   ]
  },
  {
   "cell_type": "code",
   "execution_count": 13,
   "id": "4d9e07be-051d-46f5-9173-025f491fb99e",
   "metadata": {
    "tags": []
   },
   "outputs": [],
   "source": [
    "schema = Object(\n",
    "    id=\"personalinfo\",\n",
    "    description=\"Collect information about a person.\",\n",
    "    attributes=[\n",
    "        Text(\n",
    "            id=\"profession\",\n",
    "            description=\"The person's profession?\",\n",
    "            examples=[\n",
    "                (\"He was a professor\", \"professor\"),\n",
    "                (\"Bob was a lawyer and a politician\", [\"lawyer\", \"politician\"]),\n",
    "            ],\n",
    "        ),\n",
    "        Text(\n",
    "            id=\"first_name\",\n",
    "            description=\"The person's first name\",\n",
    "            examples=[(\"Billy was here\", \"Billy\"), (\"Bob was very tall\", \"Bob\")],\n",
    "        ),\n",
    "        Text(\n",
    "            id=\"last_name\",\n",
    "            description=\"The person's last name\",\n",
    "            examples=[(\"Joe Donatello was very tall\", \"Donatello\")],\n",
    "        ),\n",
    "        Text(\n",
    "            id=\"eye_color\",\n",
    "            description=\"The person's eye color?\",\n",
    "            examples=[(\"my eyes are green\", \"green\")],\n",
    "        ),\n",
    "        Object(\n",
    "            id=\"age\",\n",
    "            attributes=[\n",
    "                Number(\n",
    "                    id=\"number\",\n",
    "                    description=\"what is the person's age?\",\n",
    "                    examples=[(\"10 years old\", 10)],\n",
    "                ),\n",
    "                Text(\n",
    "                    id=\"unit\",\n",
    "                    description=\"In which units is the age reported in?\",\n",
    "                    examples=[(\"10 years old\", \"years\"), (\"22 days\", \"days\")],\n",
    "                ),\n",
    "            ],\n",
    "        ),\n",
    "    ],\n",
    "    examples=[],\n",
    ")"
   ]
  },
  {
   "cell_type": "code",
   "execution_count": 14,
   "id": "89ad6a27-cf0c-4da8-8ff7-ae3f787e29fb",
   "metadata": {
    "tags": []
   },
   "outputs": [],
   "source": [
    "user_input = (\n",
    "    \"Today Alice MacDonald is turning sixty days old. She had blue eyes. \"\n",
    "    \"Bob is turning 10 years old. His eyes were bright red. Chris Prass used his \"\n",
    "    \"green eyes to look at Dorothy to find 15 year old eyes staring back at him. \"\n",
    "    \"Prass was a piano teacher. Dorothy was a certified mechanic. \"\n",
    "    \"All certified mechanics have yellow eyes.\"\n",
    ")"
   ]
  },
  {
   "cell_type": "code",
   "execution_count": 15,
   "id": "93668b59-6e8c-4ad8-abf9-8cba62ccc2b7",
   "metadata": {
    "tags": []
   },
   "outputs": [
    {
     "data": {
      "text/plain": [
       "{'personalinfo': [{'first_name': ['Alice'],\n",
       "   'last_name': ['MacDonald'],\n",
       "   'age': [{'number': ['60'], 'unit': ['days']}],\n",
       "   'eye_color': ['blue']},\n",
       "  {'first_name': ['Bob'],\n",
       "   'age': [{'number': ['10'], 'unit': ['years']}],\n",
       "   'eye_color': ['bright red']},\n",
       "  {'first_name': ['Chris'],\n",
       "   'last_name': ['Prass'],\n",
       "   'profession': ['piano teacher'],\n",
       "   'eye_color': ['green']},\n",
       "  {'first_name': ['Dorothy'],\n",
       "   'profession': ['certified mechanic'],\n",
       "   'eye_color': ['yellow']}]}"
      ]
     },
     "execution_count": 15,
     "metadata": {},
     "output_type": "execute_result"
    }
   ],
   "source": [
    "model(user_input, schema)"
   ]
  },
  {
   "cell_type": "markdown",
   "id": "ba4fbdbb-5228-4979-87cf-f4ef76030fc0",
   "metadata": {},
   "source": [
    "## Grouping Ambiguity\n",
    "\n",
    "*Kor* interprets every type as a list of that type. (At least at the moment.)\n",
    "\n",
    "As a result, grouping items correctly can be ambiguous without sufficient examples.\n",
    "\n",
    "Below is an example where we're extracting where from and where to people are moving."
   ]
  },
  {
   "cell_type": "code",
   "execution_count": 16,
   "id": "47aa53ab-a5d9-44e6-bcc2-36e3e4b3e724",
   "metadata": {
    "tags": []
   },
   "outputs": [],
   "source": [
    "FROM_ADDRESS = Object(\n",
    "    id=\"from_address\",\n",
    "    description=\"Person moved away from this address\",\n",
    "    attributes=[\n",
    "        Text(id=\"street\"),\n",
    "        Text(id=\"city\"),\n",
    "        Text(id=\"state\"),\n",
    "        Text(id=\"zipcode\"),\n",
    "        Text(id=\"country\", description=\"A country in the world; e.g., France.\"),\n",
    "    ],\n",
    "    examples=[\n",
    "        (\n",
    "            \"100 Main St, Boston,MA, 23232, USA\",\n",
    "            {\n",
    "                \"street\": \"100 Marlo St\",\n",
    "                \"city\": \"Boston\",\n",
    "                \"state\": \"MA\",\n",
    "                \"zipcode\": \"23232\",\n",
    "                \"country\": \"USA\",\n",
    "            },\n",
    "        )\n",
    "    ],\n",
    ")\n",
    "\n",
    "TO_ADDRESS = FROM_ADDRESS.replace(\n",
    "    id=\"to_address\", description=\"Address to which the person is moving\"\n",
    ")\n",
    "\n",
    "schema = Object(\n",
    "    id=\"information\",\n",
    "    attributes=[\n",
    "        Text(\n",
    "            id=\"person_name\",\n",
    "            description=\"The full name of the person or partial name\",\n",
    "            examples=[(\"John Smith was here\", \"John Smith\")],\n",
    "        ),\n",
    "        FROM_ADDRESS,\n",
    "        TO_ADDRESS,\n",
    "    ],\n",
    ")"
   ]
  },
  {
   "cell_type": "code",
   "execution_count": 17,
   "id": "16aa93c3-ac85-4f0a-98f8-92b23d1d934f",
   "metadata": {
    "tags": []
   },
   "outputs": [
    {
     "data": {
      "text/plain": [
       "{'information': [{'person_name': ['Alice Doe', 'Bob Smith'],\n",
       "   'from_address': [{'city': ['New York']}],\n",
       "   'to_address': [{'city': ['Boston']}]}]}"
      ]
     },
     "execution_count": 17,
     "metadata": {},
     "output_type": "execute_result"
    }
   ],
   "source": [
    "model(\"Alice Doe and Bob Smith moved from New York to Boston\", schema)"
   ]
  },
  {
   "cell_type": "markdown",
   "id": "1fc198a5-436c-4d71-95fe-98ca10a1eff8",
   "metadata": {},
   "source": [
    "**Attention** We extracted correct information above, but this is probably not how we wanted the information to be grouped!"
   ]
  },
  {
   "cell_type": "markdown",
   "id": "cfc92a23-56c2-466f-a89d-61f8cb5f10d5",
   "metadata": {},
   "source": [
    "### Disambiguating groups\n",
    "\n",
    "At the moment, one should specify object level examples, to help the model determine how to group things correctly."
   ]
  },
  {
   "cell_type": "code",
   "execution_count": 18,
   "id": "4397e231-b32d-45a3-89a4-f8dcc3672a1a",
   "metadata": {
    "tags": []
   },
   "outputs": [],
   "source": [
    "form = Object(\n",
    "    id=\"information\",\n",
    "    attributes=[\n",
    "        Text(\n",
    "            id=\"person_name\",\n",
    "            description=\"The full name of the person or partial name\",\n",
    "            examples=[(\"John Smith was here\", \"John Smith\")],\n",
    "        ),\n",
    "        FROM_ADDRESS,\n",
    "        TO_ADDRESS,\n",
    "    ],\n",
    "    examples=[\n",
    "        (\n",
    "            \"John Smith moved to Boston from New York. Billy moved to LA.\",\n",
    "            [\n",
    "                {\n",
    "                    \"person_name\": \"John Smith\",\n",
    "                    \"from_address\": {\"city\": \"New York\"},\n",
    "                    \"to_address\": {\"city\": \"Boston\"},\n",
    "                },\n",
    "                {\"person_name\": \"Billy\", \"to_address\": {\"city\": \"LA\"}},\n",
    "            ],\n",
    "        )\n",
    "    ],\n",
    ")"
   ]
  },
  {
   "cell_type": "code",
   "execution_count": 19,
   "id": "86d1113b-e983-4ddf-9505-29551c05b150",
   "metadata": {
    "tags": []
   },
   "outputs": [
    {
     "data": {
      "text/plain": [
       "{'information': [{'person_name': ['Alice Doe', 'Bob Smith'],\n",
       "   'from_address': [{'city': ['New York']}],\n",
       "   'to_address': [{'city': ['Boston']}]}]}"
      ]
     },
     "execution_count": 19,
     "metadata": {},
     "output_type": "execute_result"
    }
   ],
   "source": [
    "model(\"Alice Doe and Bob Smith moved from New York to Boston\", schema)"
   ]
  },
  {
   "cell_type": "code",
   "execution_count": 20,
   "id": "63f1fa72-bf97-4b09-878b-792e8cbcbb0f",
   "metadata": {
    "tags": []
   },
   "outputs": [
    {
     "data": {
      "text/plain": [
       "{'information': [{'from_address': [{'city': ['New York']}],\n",
       "   'person_name': ['Alice Doe'],\n",
       "   'to_address': [{'city': ['Boston']}]},\n",
       "  {'from_address': [{'city': ['New York']}],\n",
       "   'person_name': ['Bob Smith'],\n",
       "   'to_address': [{'city': ['Boston']}]},\n",
       "  {'person_name': ['Andrew']},\n",
       "  {'person_name': ['Joana'], 'to_address': [{'city': ['Boston']}]},\n",
       "  {'person_name': ['Paul'], 'to_address': [{'city': ['Boston']}]},\n",
       "  {'person_name': ['Betty'], 'to_address': [{'city': ['New York']}]}]}"
      ]
     },
     "execution_count": 20,
     "metadata": {},
     "output_type": "execute_result"
    }
   ],
   "source": [
    "model(\n",
    "    (\n",
    "        \"Alice Doe and Bob Smith moved from New York to Boston. Andrew was 12 years\"\n",
    "        \" old. He also moved to Boston. So did Joana and Paul. Betty did the opposite.\"\n",
    "    ),\n",
    "    form,\n",
    ")"
   ]
  },
  {
   "cell_type": "markdown",
   "id": "e382f417-b281-4567-8cac-d205291de3a4",
   "metadata": {},
   "source": [
    "## Untyped Obects\n",
    "\n",
    "It's possible to provide just examples without type information.\n",
    "\n",
    "It's unclear 🤷🤷🤷 if the quality of the results is affected significantly, especially if one adds additional examples to compensate."
   ]
  },
  {
   "cell_type": "code",
   "execution_count": 21,
   "id": "4325ac08-248f-4c57-bca9-478f8cab0436",
   "metadata": {
    "tags": []
   },
   "outputs": [],
   "source": [
    "form = Object(\n",
    "    id=\"information\",\n",
    "    attributes=[],\n",
    "    examples=[\n",
    "        (\n",
    "            \"John Smith moved to Boston from New York. Billy moved to LA.\",\n",
    "            [\n",
    "                {\n",
    "                    \"person_name\": \"John Smith\",\n",
    "                    \"from_address\": {\"city\": \"New York\"},\n",
    "                    \"to_address\": {\"city\": \"Boston\"},\n",
    "                },\n",
    "                {\"person_name\": \"Billy\", \"to_address\": {\"city\": \"LA\"}},\n",
    "            ],\n",
    "        )\n",
    "    ],\n",
    ")"
   ]
  },
  {
   "cell_type": "code",
   "execution_count": 22,
   "id": "82c52f44-657e-45fb-8dc0-80155ae63a86",
   "metadata": {
    "tags": []
   },
   "outputs": [
    {
     "data": {
      "text/plain": [
       "{'information': [{'from_address': [{'city': ['New York']}],\n",
       "   'person_name': ['Alice Doe'],\n",
       "   'to_address': [{'city': ['Boston']}]},\n",
       "  {'from_address': [{'city': ['New York']}],\n",
       "   'person_name': ['Bob Smith'],\n",
       "   'to_address': [{'city': ['Boston']}]},\n",
       "  {'person_name': ['Andrew'],\n",
       "   'age': ['12'],\n",
       "   'to_address': [{'city': ['Boston']}]},\n",
       "  {'person_name': ['Joana'], 'to_address': [{'city': ['Boston']}]},\n",
       "  {'person_name': ['Paul'], 'to_address': [{'city': ['Boston']}]},\n",
       "  {'person_name': ['Betty'], 'to_address': [{'city': ['New York']}]}]}"
      ]
     },
     "execution_count": 22,
     "metadata": {},
     "output_type": "execute_result"
    }
   ],
   "source": [
    "model(\n",
    "    (\n",
    "        \"Alice Doe and Bob Smith moved from New York to Boston. Andrew was 12 years\"\n",
    "        \" old. He also moved to Boston. So did Joana and Paul. Betty did the opposite.\"\n",
    "    ),\n",
    "    form,\n",
    ")"
   ]
  },
  {
   "cell_type": "markdown",
   "id": "3c92aa32-25bd-416f-ba71-3506455cb68a",
   "metadata": {},
   "source": [
    "## Flattened Objects"
   ]
  },
  {
   "cell_type": "markdown",
   "id": "21a41acd-4b23-4935-b54a-42f4bb93fdf7",
   "metadata": {},
   "source": [
    "This section is not ready yet."
   ]
  },
  {
   "cell_type": "code",
   "execution_count": 23,
   "id": "df8f7a85-2308-4e50-bcf8-b31c9c5bc882",
   "metadata": {
    "tags": []
   },
   "outputs": [],
   "source": [
    "form = Object(\n",
    "    id=\"information\",\n",
    "    attributes=[\n",
    "        Text(\n",
    "            id=\"person_name\",\n",
    "            description=\"The first name of the person or partial name\",\n",
    "            examples=[(\"John Smith was here\", \"John\")],\n",
    "        ),\n",
    "        Text(\n",
    "            id=\"last_name\",\n",
    "            description=\"The last name of the person or partial name\",\n",
    "            examples=[(\"John Smith was here\", \"Smith\")],\n",
    "        ),\n",
    "    ],\n",
    "    examples=[],\n",
    "    group_as_object=False,  # <-- Please note\n",
    ")"
   ]
  }
 ],
 "metadata": {
  "kernelspec": {
   "display_name": "Python 3 (ipykernel)",
   "language": "python",
   "name": "python3"
  },
  "language_info": {
   "codemirror_mode": {
    "name": "ipython",
    "version": 3
   },
   "file_extension": ".py",
   "mimetype": "text/x-python",
   "name": "python",
   "nbconvert_exporter": "python",
   "pygments_lexer": "ipython3",
   "version": "3.11.1"
  }
 },
 "nbformat": 4,
 "nbformat_minor": 5
}
