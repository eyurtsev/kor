{
 "cells": [
  {
   "cell_type": "markdown",
   "id": "6fcfbb4c-e91d-46aa-8653-38f094146c0c",
   "metadata": {},
   "source": [
    "# Introduction\n",
    "\n",
    "**Kor** is a thin wrapper on top of LLMs that helps to extract structured data using LLMs. \n",
    "\n",
    "To use Kor, specify the schema of what should be extracted and provide some extraction examples.\n",
    "\n",
    "As you're looking through this tutorial, examine 👀 the outputs carefully to understand what errors are being made.\n",
    "Extraction isn't perfect, so understand the limitations of this approach before adopting it for your use case."
   ]
  },
  {
   "cell_type": "code",
   "execution_count": 1,
   "id": "5419b2f8-1c28-497d-9bf0-a046d21a93d9",
   "metadata": {
    "nbsphinx": "hidden",
    "tags": [
     "remove-cell"
    ]
   },
   "outputs": [],
   "source": [
    "%load_ext autoreload\n",
    "%autoreload 2\n",
    "\n",
    "import sys\n",
    "import pprint\n",
    "\n",
    "sys.path.insert(0, \"../../\")"
   ]
  },
  {
   "cell_type": "code",
   "execution_count": 2,
   "id": "718c66a7-6186-4ed8-87e9-5ed28e3f209e",
   "metadata": {
    "tags": []
   },
   "outputs": [],
   "source": [
    "from kor.extraction import Extractor\n",
    "from kor.nodes import Object, Text, Number\n",
    "from langchain.chat_models import ChatOpenAI"
   ]
  },
  {
   "cell_type": "markdown",
   "id": "65de393b-838e-4bf5-a3b7-a14a394bb4d9",
   "metadata": {},
   "source": [
    "## LLM\n",
    "\n",
    "Instantiate a langchain LLM\n",
    "\n",
    "https://langchain.readthedocs.io/en/latest/modules/llms.html"
   ]
  },
  {
   "cell_type": "code",
   "execution_count": 3,
   "id": "91859675-85a7-4b62-9368-cbb441cbe355",
   "metadata": {
    "tags": []
   },
   "outputs": [],
   "source": [
    "llm = ChatOpenAI(model_name=\"gpt-3.5-turbo\", \n",
    "    temperature = 0,\n",
    "    max_tokens = 2000,\n",
    "    frequency_penalty = 0,\n",
    "    presence_penalty = 0,\n",
    "    top_p = 1.0,\n",
    ")"
   ]
  },
  {
   "cell_type": "markdown",
   "id": "afdabe59-b7d4-4b65-ac27-b91c37fabcd3",
   "metadata": {},
   "source": [
    "----------\n",
    "Create an extractor instance. The extactor is responsible for generating a prompt, feeding it into the LLM and parsing out the output."
   ]
  },
  {
   "cell_type": "code",
   "execution_count": 4,
   "id": "9666b3b9-e48e-41ab-91b5-7bc6ec5983df",
   "metadata": {
    "tags": []
   },
   "outputs": [],
   "source": [
    "model = Extractor(llm)"
   ]
  },
  {
   "cell_type": "markdown",
   "id": "6645f896-c969-444d-b9f2-85318abb79d6",
   "metadata": {},
   "source": [
    "## Schema\n",
    "\n",
    "Kor requires that you specify the `schema` of what you want parsed with some optional examples.\n",
    "\n",
    "We'll start off by specifying a **very simple** schema:"
   ]
  },
  {
   "cell_type": "code",
   "execution_count": 5,
   "id": "8c97a013-5443-442a-a87c-b3f4bff21bf6",
   "metadata": {
    "tags": []
   },
   "outputs": [],
   "source": [
    "schema = Text(\n",
    "    id=\"first_name\",\n",
    "    description=\"The first name of a person\",\n",
    "    examples=[(\"I am billy.\", \"billy\"), (\"John Smith is 33 years old\", \"John\")],\n",
    ")"
   ]
  },
  {
   "cell_type": "markdown",
   "id": "35a8348b-6bed-4506-9bac-843137261b5f",
   "metadata": {},
   "source": [
    "The schema above consists of a single text node (i.e., a single text input). \n",
    "\n",
    "The node will capture mentions of **first name** from a segment of text.\n",
    "\n",
    "As part of the schema, we specified a `description` of what we're extracting, as well as 2 examples.\n",
    "\n",
    "Including both a `description` and `examples` will likely improve performance."
   ]
  },
  {
   "cell_type": "markdown",
   "id": "a6849441-f9ae-468d-9003-b26bfa0253dd",
   "metadata": {
    "tags": []
   },
   "source": [
    "## Extract\n",
    "\n",
    "With a `model` and a `schema` defined, we're ready to extract data."
   ]
  },
  {
   "cell_type": "code",
   "execution_count": 6,
   "id": "f6102c88-4147-43f4-800f-28e1ce6b2aa2",
   "metadata": {
    "tags": []
   },
   "outputs": [
    {
     "data": {
      "text/plain": [
       "{'first_name': ['Tom', 'Bobby']}"
      ]
     },
     "execution_count": 6,
     "metadata": {},
     "output_type": "execute_result"
    }
   ],
   "source": [
    "model(\"My name is Tom. I am a cat. My best friend is Bobby. He is not a cat.\", schema)"
   ]
  },
  {
   "cell_type": "code",
   "execution_count": 7,
   "id": "69148111-77e1-450c-ba38-fd46c3730de2",
   "metadata": {
    "tags": []
   },
   "outputs": [
    {
     "data": {
      "text/plain": [
       "{'first_name': ['WOW', 'Meow']}"
      ]
     },
     "execution_count": 7,
     "metadata": {},
     "output_type": "execute_result"
    }
   ],
   "source": [
    "model(\"My name is WOW. My friend's name is Meow.\", schema)"
   ]
  },
  {
   "cell_type": "code",
   "execution_count": 8,
   "id": "000dc5f9-ff7b-466d-ae18-142490129ba6",
   "metadata": {
    "tags": []
   },
   "outputs": [
    {
     "data": {
      "text/plain": [
       "{'first_name': ['MOO', 'MOO', 'MOO']}"
      ]
     },
     "execution_count": 8,
     "metadata": {},
     "output_type": "execute_result"
    }
   ],
   "source": [
    "# Note the extraction here. It's unlikely to be reasonable.\n",
    "model(\"My name is My name is My name is MOO MOO.\", schema)"
   ]
  },
  {
   "cell_type": "code",
   "execution_count": 9,
   "id": "4ccc9bf3-022c-4fdb-a018-7e1f422734a9",
   "metadata": {
    "tags": []
   },
   "outputs": [
    {
     "data": {
      "text/plain": [
       "{'first_name': ['Bobby', 'Cobby']}"
      ]
     },
     "execution_count": 9,
     "metadata": {},
     "output_type": "execute_result"
    }
   ],
   "source": [
    "model(\n",
    "    (\n",
    "        \"My name is Bobby. My brother's name is the same as mine except that it starts\"\n",
    "        \" with a `C`.\"\n",
    "    ),\n",
    "    schema,\n",
    ")"
   ]
  },
  {
   "cell_type": "code",
   "execution_count": 10,
   "id": "ebbe576b-0796-448a-99c4-ce903917ad27",
   "metadata": {
    "tags": []
   },
   "outputs": [
    {
     "data": {
      "text/plain": [
       "{'first_name': ['Bobby']}"
      ]
     },
     "execution_count": 10,
     "metadata": {},
     "output_type": "execute_result"
    }
   ],
   "source": [
    "model(\"My name is Bobby. My brother's name rhymes with mine.\", schema)"
   ]
  },
  {
   "cell_type": "code",
   "execution_count": 11,
   "id": "798080a4-82fa-4dbb-babb-de4085966c1d",
   "metadata": {
    "tags": []
   },
   "outputs": [
    {
     "data": {
      "text/plain": [
       "{'first_name': ['Bobby']}"
      ]
     },
     "execution_count": 11,
     "metadata": {},
     "output_type": "execute_result"
    }
   ],
   "source": [
    "model(\"My name is Bobby. My brother's name is like mine but different.\", schema)"
   ]
  },
  {
   "cell_type": "code",
   "execution_count": 12,
   "id": "51c798a7-03c9-4f4a-bca4-4812919e6f6b",
   "metadata": {
    "tags": []
   },
   "outputs": [
    {
     "data": {
      "text/plain": [
       "{'first_name': ['Bobby']}"
      ]
     },
     "execution_count": 12,
     "metadata": {},
     "output_type": "execute_result"
    }
   ],
   "source": [
    "model(\n",
    "    (\n",
    "        \"My name is Bobby. My brother's name is the same as mine but it does not have\"\n",
    "        \" vowels.\"\n",
    "    ),\n",
    "    schema,\n",
    ")"
   ]
  },
  {
   "cell_type": "markdown",
   "id": "65773928-027c-4340-a635-969b41f73de2",
   "metadata": {},
   "source": [
    "## The Prompt\n",
    "\n",
    "And here's the actual prompt that was sent to the LLM."
   ]
  },
  {
   "cell_type": "code",
   "execution_count": 13,
   "id": "26ca8ecd-3800-4bbe-87c9-87fe9e02b717",
   "metadata": {
    "tags": []
   },
   "outputs": [
    {
     "name": "stdout",
     "output_type": "stream",
     "text": [
      "[SystemMessage(content=\"Your goal is to extract structured information from the user's input that matches the form described below. When extracting information please make sure it matches the type information exactly. Do not add any attributes that do not appear in the schema shown below.\\n\\n```TypeScript\\n\\n{\\n first_name: string[] // The first name of a person\\n}\\n```\\n\\n\\nFor Union types the output must EXACTLY match one of the members of the Union type.\\n\\nPlease enclose the extracted information in HTML style tags with the tag name corresponding to the corresponding component ID. Use angle style brackets for the tags ('>' and '<'). Only output tags when you're confident about the information that was extracted from the user's query. If you can extract several pieces of relevant information from the query, then include all of them. If the type is an array, please repeat the corresponding tag name multiple times once for each relevant extraction. Do NOT output anything except for the extracted information. Only output information inside the HTML style tags. Do not include any notes or any clarifications. \", additional_kwargs={}), HumanMessage(content='I am billy.', additional_kwargs={}), AIMessage(content='<first_name>billy</first_name>', additional_kwargs={}), HumanMessage(content='John Smith is 33 years old', additional_kwargs={}), AIMessage(content='<first_name>John</first_name>', additional_kwargs={}), HumanMessage(content='user input goes here', additional_kwargs={})]\n"
     ]
    }
   ],
   "source": [
    "print(model.prompt_generator.format_as_chat(\"user input goes here\", schema))"
   ]
  }
 ],
 "metadata": {
  "kernelspec": {
   "display_name": "Python 3 (ipykernel)",
   "language": "python",
   "name": "python3"
  },
  "language_info": {
   "codemirror_mode": {
    "name": "ipython",
    "version": 3
   },
   "file_extension": ".py",
   "mimetype": "text/x-python",
   "name": "python",
   "nbconvert_exporter": "python",
   "pygments_lexer": "ipython3",
   "version": "3.11.1"
  }
 },
 "nbformat": 4,
 "nbformat_minor": 5
}
